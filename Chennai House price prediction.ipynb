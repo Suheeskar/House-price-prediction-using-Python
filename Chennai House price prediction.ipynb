{
 "cells": [
  {
   "cell_type": "code",
   "execution_count": 2,
   "id": "981b13c4",
   "metadata": {},
   "outputs": [],
   "source": [
    "import pandas as pd"
   ]
  },
  {
   "cell_type": "code",
   "execution_count": 1,
   "id": "9b10a640",
   "metadata": {},
   "outputs": [],
   "source": [
    "import numpy as np\n",
    "import pandas as pd\n",
    "import seaborn as sns\n",
    "import matplotlib.pyplot as plt\n"
   ]
  },
  {
   "cell_type": "code",
   "execution_count": 43,
   "id": "f42d9ce0",
   "metadata": {},
   "outputs": [],
   "source": [
    "chennai=pd.read_csv(\"C:/Users/suheeskar/Downloads/chennai.csv\")"
   ]
  },
  {
   "cell_type": "markdown",
   "id": "3ffeba00",
   "metadata": {},
   "source": [
    "## EDA"
   ]
  },
  {
   "cell_type": "code",
   "execution_count": 3,
   "id": "3b76e2fb",
   "metadata": {
    "scrolled": true
   },
   "outputs": [
    {
     "data": {
      "text/html": [
       "<div>\n",
       "<style scoped>\n",
       "    .dataframe tbody tr th:only-of-type {\n",
       "        vertical-align: middle;\n",
       "    }\n",
       "\n",
       "    .dataframe tbody tr th {\n",
       "        vertical-align: top;\n",
       "    }\n",
       "\n",
       "    .dataframe thead th {\n",
       "        text-align: right;\n",
       "    }\n",
       "</style>\n",
       "<table border=\"1\" class=\"dataframe\">\n",
       "  <thead>\n",
       "    <tr style=\"text-align: right;\">\n",
       "      <th></th>\n",
       "      <th>count</th>\n",
       "      <th>mean</th>\n",
       "      <th>std</th>\n",
       "      <th>min</th>\n",
       "      <th>25%</th>\n",
       "      <th>50%</th>\n",
       "      <th>75%</th>\n",
       "      <th>max</th>\n",
       "    </tr>\n",
       "  </thead>\n",
       "  <tbody>\n",
       "    <tr>\n",
       "      <th>Price</th>\n",
       "      <td>5014.0</td>\n",
       "      <td>8.731264e+06</td>\n",
       "      <td>1.034261e+07</td>\n",
       "      <td>2000000.0</td>\n",
       "      <td>4095000.0</td>\n",
       "      <td>5782000.0</td>\n",
       "      <td>8675000.00</td>\n",
       "      <td>190000000.0</td>\n",
       "    </tr>\n",
       "    <tr>\n",
       "      <th>Area</th>\n",
       "      <td>5014.0</td>\n",
       "      <td>1.232992e+03</td>\n",
       "      <td>6.418418e+02</td>\n",
       "      <td>362.0</td>\n",
       "      <td>865.0</td>\n",
       "      <td>1067.0</td>\n",
       "      <td>1438.75</td>\n",
       "      <td>7240.0</td>\n",
       "    </tr>\n",
       "    <tr>\n",
       "      <th>No. of Bedrooms</th>\n",
       "      <td>5014.0</td>\n",
       "      <td>2.362984e+00</td>\n",
       "      <td>7.052523e-01</td>\n",
       "      <td>1.0</td>\n",
       "      <td>2.0</td>\n",
       "      <td>2.0</td>\n",
       "      <td>3.00</td>\n",
       "      <td>5.0</td>\n",
       "    </tr>\n",
       "    <tr>\n",
       "      <th>Resale</th>\n",
       "      <td>5014.0</td>\n",
       "      <td>9.712804e-02</td>\n",
       "      <td>2.961616e-01</td>\n",
       "      <td>0.0</td>\n",
       "      <td>0.0</td>\n",
       "      <td>0.0</td>\n",
       "      <td>0.00</td>\n",
       "      <td>1.0</td>\n",
       "    </tr>\n",
       "    <tr>\n",
       "      <th>MaintenanceStaff</th>\n",
       "      <td>5014.0</td>\n",
       "      <td>5.000997e+00</td>\n",
       "      <td>4.464256e+00</td>\n",
       "      <td>0.0</td>\n",
       "      <td>0.0</td>\n",
       "      <td>9.0</td>\n",
       "      <td>9.00</td>\n",
       "      <td>9.0</td>\n",
       "    </tr>\n",
       "    <tr>\n",
       "      <th>Gymnasium</th>\n",
       "      <td>5014.0</td>\n",
       "      <td>5.213602e+00</td>\n",
       "      <td>4.239118e+00</td>\n",
       "      <td>0.0</td>\n",
       "      <td>1.0</td>\n",
       "      <td>9.0</td>\n",
       "      <td>9.00</td>\n",
       "      <td>9.0</td>\n",
       "    </tr>\n",
       "    <tr>\n",
       "      <th>SwimmingPool</th>\n",
       "      <td>5014.0</td>\n",
       "      <td>5.160949e+00</td>\n",
       "      <td>4.296954e+00</td>\n",
       "      <td>0.0</td>\n",
       "      <td>0.0</td>\n",
       "      <td>9.0</td>\n",
       "      <td>9.00</td>\n",
       "      <td>9.0</td>\n",
       "    </tr>\n",
       "    <tr>\n",
       "      <th>LandscapedGardens</th>\n",
       "      <td>5014.0</td>\n",
       "      <td>5.114878e+00</td>\n",
       "      <td>4.346406e+00</td>\n",
       "      <td>0.0</td>\n",
       "      <td>0.0</td>\n",
       "      <td>9.0</td>\n",
       "      <td>9.00</td>\n",
       "      <td>9.0</td>\n",
       "    </tr>\n",
       "    <tr>\n",
       "      <th>JoggingTrack</th>\n",
       "      <td>5014.0</td>\n",
       "      <td>5.123055e+00</td>\n",
       "      <td>4.337706e+00</td>\n",
       "      <td>0.0</td>\n",
       "      <td>0.0</td>\n",
       "      <td>9.0</td>\n",
       "      <td>9.00</td>\n",
       "      <td>9.0</td>\n",
       "    </tr>\n",
       "    <tr>\n",
       "      <th>RainWaterHarvesting</th>\n",
       "      <td>5014.0</td>\n",
       "      <td>5.115277e+00</td>\n",
       "      <td>4.345983e+00</td>\n",
       "      <td>0.0</td>\n",
       "      <td>0.0</td>\n",
       "      <td>9.0</td>\n",
       "      <td>9.00</td>\n",
       "      <td>9.0</td>\n",
       "    </tr>\n",
       "    <tr>\n",
       "      <th>IndoorGames</th>\n",
       "      <td>5014.0</td>\n",
       "      <td>5.120463e+00</td>\n",
       "      <td>4.340468e+00</td>\n",
       "      <td>0.0</td>\n",
       "      <td>0.0</td>\n",
       "      <td>9.0</td>\n",
       "      <td>9.00</td>\n",
       "      <td>9.0</td>\n",
       "    </tr>\n",
       "    <tr>\n",
       "      <th>ShoppingMall</th>\n",
       "      <td>5014.0</td>\n",
       "      <td>5.008576e+00</td>\n",
       "      <td>4.456600e+00</td>\n",
       "      <td>0.0</td>\n",
       "      <td>0.0</td>\n",
       "      <td>9.0</td>\n",
       "      <td>9.00</td>\n",
       "      <td>9.0</td>\n",
       "    </tr>\n",
       "    <tr>\n",
       "      <th>Intercom</th>\n",
       "      <td>5014.0</td>\n",
       "      <td>5.119266e+00</td>\n",
       "      <td>4.341742e+00</td>\n",
       "      <td>0.0</td>\n",
       "      <td>0.0</td>\n",
       "      <td>9.0</td>\n",
       "      <td>9.00</td>\n",
       "      <td>9.0</td>\n",
       "    </tr>\n",
       "    <tr>\n",
       "      <th>SportsFacility</th>\n",
       "      <td>5014.0</td>\n",
       "      <td>5.080574e+00</td>\n",
       "      <td>4.382551e+00</td>\n",
       "      <td>0.0</td>\n",
       "      <td>0.0</td>\n",
       "      <td>9.0</td>\n",
       "      <td>9.00</td>\n",
       "      <td>9.0</td>\n",
       "    </tr>\n",
       "    <tr>\n",
       "      <th>ATM</th>\n",
       "      <td>5014.0</td>\n",
       "      <td>5.028121e+00</td>\n",
       "      <td>4.436736e+00</td>\n",
       "      <td>0.0</td>\n",
       "      <td>0.0</td>\n",
       "      <td>9.0</td>\n",
       "      <td>9.00</td>\n",
       "      <td>9.0</td>\n",
       "    </tr>\n",
       "    <tr>\n",
       "      <th>ClubHouse</th>\n",
       "      <td>5014.0</td>\n",
       "      <td>5.154966e+00</td>\n",
       "      <td>4.303437e+00</td>\n",
       "      <td>0.0</td>\n",
       "      <td>0.0</td>\n",
       "      <td>9.0</td>\n",
       "      <td>9.00</td>\n",
       "      <td>9.0</td>\n",
       "    </tr>\n",
       "    <tr>\n",
       "      <th>School</th>\n",
       "      <td>5014.0</td>\n",
       "      <td>5.017351e+00</td>\n",
       "      <td>4.447703e+00</td>\n",
       "      <td>0.0</td>\n",
       "      <td>0.0</td>\n",
       "      <td>9.0</td>\n",
       "      <td>9.00</td>\n",
       "      <td>9.0</td>\n",
       "    </tr>\n",
       "    <tr>\n",
       "      <th>24X7Security</th>\n",
       "      <td>5014.0</td>\n",
       "      <td>5.121859e+00</td>\n",
       "      <td>4.338981e+00</td>\n",
       "      <td>0.0</td>\n",
       "      <td>0.0</td>\n",
       "      <td>9.0</td>\n",
       "      <td>9.00</td>\n",
       "      <td>9.0</td>\n",
       "    </tr>\n",
       "    <tr>\n",
       "      <th>PowerBackup</th>\n",
       "      <td>5014.0</td>\n",
       "      <td>5.253889e+00</td>\n",
       "      <td>4.193880e+00</td>\n",
       "      <td>0.0</td>\n",
       "      <td>1.0</td>\n",
       "      <td>9.0</td>\n",
       "      <td>9.00</td>\n",
       "      <td>9.0</td>\n",
       "    </tr>\n",
       "    <tr>\n",
       "      <th>CarParking</th>\n",
       "      <td>5014.0</td>\n",
       "      <td>5.121260e+00</td>\n",
       "      <td>4.339619e+00</td>\n",
       "      <td>0.0</td>\n",
       "      <td>0.0</td>\n",
       "      <td>9.0</td>\n",
       "      <td>9.00</td>\n",
       "      <td>9.0</td>\n",
       "    </tr>\n",
       "    <tr>\n",
       "      <th>StaffQuarter</th>\n",
       "      <td>5014.0</td>\n",
       "      <td>5.019944e+00</td>\n",
       "      <td>4.445068e+00</td>\n",
       "      <td>0.0</td>\n",
       "      <td>0.0</td>\n",
       "      <td>9.0</td>\n",
       "      <td>9.00</td>\n",
       "      <td>9.0</td>\n",
       "    </tr>\n",
       "    <tr>\n",
       "      <th>Cafeteria</th>\n",
       "      <td>5014.0</td>\n",
       "      <td>5.037296e+00</td>\n",
       "      <td>4.427352e+00</td>\n",
       "      <td>0.0</td>\n",
       "      <td>0.0</td>\n",
       "      <td>9.0</td>\n",
       "      <td>9.00</td>\n",
       "      <td>9.0</td>\n",
       "    </tr>\n",
       "    <tr>\n",
       "      <th>MultipurposeRoom</th>\n",
       "      <td>5014.0</td>\n",
       "      <td>5.084164e+00</td>\n",
       "      <td>4.378795e+00</td>\n",
       "      <td>0.0</td>\n",
       "      <td>0.0</td>\n",
       "      <td>9.0</td>\n",
       "      <td>9.00</td>\n",
       "      <td>9.0</td>\n",
       "    </tr>\n",
       "    <tr>\n",
       "      <th>Hospital</th>\n",
       "      <td>5014.0</td>\n",
       "      <td>5.009374e+00</td>\n",
       "      <td>4.455793e+00</td>\n",
       "      <td>0.0</td>\n",
       "      <td>0.0</td>\n",
       "      <td>9.0</td>\n",
       "      <td>9.00</td>\n",
       "      <td>9.0</td>\n",
       "    </tr>\n",
       "    <tr>\n",
       "      <th>WashingMachine</th>\n",
       "      <td>5014.0</td>\n",
       "      <td>4.999601e+00</td>\n",
       "      <td>4.465663e+00</td>\n",
       "      <td>0.0</td>\n",
       "      <td>0.0</td>\n",
       "      <td>9.0</td>\n",
       "      <td>9.00</td>\n",
       "      <td>9.0</td>\n",
       "    </tr>\n",
       "    <tr>\n",
       "      <th>Gasconnection</th>\n",
       "      <td>5014.0</td>\n",
       "      <td>5.017750e+00</td>\n",
       "      <td>4.447298e+00</td>\n",
       "      <td>0.0</td>\n",
       "      <td>0.0</td>\n",
       "      <td>9.0</td>\n",
       "      <td>9.00</td>\n",
       "      <td>9.0</td>\n",
       "    </tr>\n",
       "    <tr>\n",
       "      <th>AC</th>\n",
       "      <td>5014.0</td>\n",
       "      <td>4.996410e+00</td>\n",
       "      <td>4.468877e+00</td>\n",
       "      <td>0.0</td>\n",
       "      <td>0.0</td>\n",
       "      <td>9.0</td>\n",
       "      <td>9.00</td>\n",
       "      <td>9.0</td>\n",
       "    </tr>\n",
       "    <tr>\n",
       "      <th>Wifi</th>\n",
       "      <td>5014.0</td>\n",
       "      <td>4.991823e+00</td>\n",
       "      <td>4.473489e+00</td>\n",
       "      <td>0.0</td>\n",
       "      <td>0.0</td>\n",
       "      <td>9.0</td>\n",
       "      <td>9.00</td>\n",
       "      <td>9.0</td>\n",
       "    </tr>\n",
       "    <tr>\n",
       "      <th>Children'splayarea</th>\n",
       "      <td>5014.0</td>\n",
       "      <td>5.202433e+00</td>\n",
       "      <td>4.251507e+00</td>\n",
       "      <td>0.0</td>\n",
       "      <td>1.0</td>\n",
       "      <td>9.0</td>\n",
       "      <td>9.00</td>\n",
       "      <td>9.0</td>\n",
       "    </tr>\n",
       "    <tr>\n",
       "      <th>LiftAvailable</th>\n",
       "      <td>5014.0</td>\n",
       "      <td>5.264260e+00</td>\n",
       "      <td>4.182092e+00</td>\n",
       "      <td>0.0</td>\n",
       "      <td>1.0</td>\n",
       "      <td>9.0</td>\n",
       "      <td>9.00</td>\n",
       "      <td>9.0</td>\n",
       "    </tr>\n",
       "    <tr>\n",
       "      <th>BED</th>\n",
       "      <td>5014.0</td>\n",
       "      <td>4.999402e+00</td>\n",
       "      <td>4.465864e+00</td>\n",
       "      <td>0.0</td>\n",
       "      <td>0.0</td>\n",
       "      <td>9.0</td>\n",
       "      <td>9.00</td>\n",
       "      <td>9.0</td>\n",
       "    </tr>\n",
       "    <tr>\n",
       "      <th>VaastuCompliant</th>\n",
       "      <td>5014.0</td>\n",
       "      <td>5.068010e+00</td>\n",
       "      <td>4.395648e+00</td>\n",
       "      <td>0.0</td>\n",
       "      <td>0.0</td>\n",
       "      <td>9.0</td>\n",
       "      <td>9.00</td>\n",
       "      <td>9.0</td>\n",
       "    </tr>\n",
       "    <tr>\n",
       "      <th>Microwave</th>\n",
       "      <td>5014.0</td>\n",
       "      <td>4.997208e+00</td>\n",
       "      <td>4.468074e+00</td>\n",
       "      <td>0.0</td>\n",
       "      <td>0.0</td>\n",
       "      <td>9.0</td>\n",
       "      <td>9.00</td>\n",
       "      <td>9.0</td>\n",
       "    </tr>\n",
       "    <tr>\n",
       "      <th>GolfCourse</th>\n",
       "      <td>5014.0</td>\n",
       "      <td>4.991823e+00</td>\n",
       "      <td>4.473489e+00</td>\n",
       "      <td>0.0</td>\n",
       "      <td>0.0</td>\n",
       "      <td>9.0</td>\n",
       "      <td>9.00</td>\n",
       "      <td>9.0</td>\n",
       "    </tr>\n",
       "    <tr>\n",
       "      <th>TV</th>\n",
       "      <td>5014.0</td>\n",
       "      <td>5.009174e+00</td>\n",
       "      <td>4.455995e+00</td>\n",
       "      <td>0.0</td>\n",
       "      <td>0.0</td>\n",
       "      <td>9.0</td>\n",
       "      <td>9.00</td>\n",
       "      <td>9.0</td>\n",
       "    </tr>\n",
       "    <tr>\n",
       "      <th>DiningTable</th>\n",
       "      <td>5014.0</td>\n",
       "      <td>5.011767e+00</td>\n",
       "      <td>4.453369e+00</td>\n",
       "      <td>0.0</td>\n",
       "      <td>0.0</td>\n",
       "      <td>9.0</td>\n",
       "      <td>9.00</td>\n",
       "      <td>9.0</td>\n",
       "    </tr>\n",
       "    <tr>\n",
       "      <th>Sofa</th>\n",
       "      <td>5014.0</td>\n",
       "      <td>4.998404e+00</td>\n",
       "      <td>4.466869e+00</td>\n",
       "      <td>0.0</td>\n",
       "      <td>0.0</td>\n",
       "      <td>9.0</td>\n",
       "      <td>9.00</td>\n",
       "      <td>9.0</td>\n",
       "    </tr>\n",
       "    <tr>\n",
       "      <th>Wardrobe</th>\n",
       "      <td>5014.0</td>\n",
       "      <td>4.991823e+00</td>\n",
       "      <td>4.473489e+00</td>\n",
       "      <td>0.0</td>\n",
       "      <td>0.0</td>\n",
       "      <td>9.0</td>\n",
       "      <td>9.00</td>\n",
       "      <td>9.0</td>\n",
       "    </tr>\n",
       "    <tr>\n",
       "      <th>Refrigerator</th>\n",
       "      <td>5014.0</td>\n",
       "      <td>5.009174e+00</td>\n",
       "      <td>4.455995e+00</td>\n",
       "      <td>0.0</td>\n",
       "      <td>0.0</td>\n",
       "      <td>9.0</td>\n",
       "      <td>9.00</td>\n",
       "      <td>9.0</td>\n",
       "    </tr>\n",
       "  </tbody>\n",
       "</table>\n",
       "</div>"
      ],
      "text/plain": [
       "                      count          mean           std        min        25%  \\\n",
       "Price                5014.0  8.731264e+06  1.034261e+07  2000000.0  4095000.0   \n",
       "Area                 5014.0  1.232992e+03  6.418418e+02      362.0      865.0   \n",
       "No. of Bedrooms      5014.0  2.362984e+00  7.052523e-01        1.0        2.0   \n",
       "Resale               5014.0  9.712804e-02  2.961616e-01        0.0        0.0   \n",
       "MaintenanceStaff     5014.0  5.000997e+00  4.464256e+00        0.0        0.0   \n",
       "Gymnasium            5014.0  5.213602e+00  4.239118e+00        0.0        1.0   \n",
       "SwimmingPool         5014.0  5.160949e+00  4.296954e+00        0.0        0.0   \n",
       "LandscapedGardens    5014.0  5.114878e+00  4.346406e+00        0.0        0.0   \n",
       "JoggingTrack         5014.0  5.123055e+00  4.337706e+00        0.0        0.0   \n",
       "RainWaterHarvesting  5014.0  5.115277e+00  4.345983e+00        0.0        0.0   \n",
       "IndoorGames          5014.0  5.120463e+00  4.340468e+00        0.0        0.0   \n",
       "ShoppingMall         5014.0  5.008576e+00  4.456600e+00        0.0        0.0   \n",
       "Intercom             5014.0  5.119266e+00  4.341742e+00        0.0        0.0   \n",
       "SportsFacility       5014.0  5.080574e+00  4.382551e+00        0.0        0.0   \n",
       "ATM                  5014.0  5.028121e+00  4.436736e+00        0.0        0.0   \n",
       "ClubHouse            5014.0  5.154966e+00  4.303437e+00        0.0        0.0   \n",
       "School               5014.0  5.017351e+00  4.447703e+00        0.0        0.0   \n",
       "24X7Security         5014.0  5.121859e+00  4.338981e+00        0.0        0.0   \n",
       "PowerBackup          5014.0  5.253889e+00  4.193880e+00        0.0        1.0   \n",
       "CarParking           5014.0  5.121260e+00  4.339619e+00        0.0        0.0   \n",
       "StaffQuarter         5014.0  5.019944e+00  4.445068e+00        0.0        0.0   \n",
       "Cafeteria            5014.0  5.037296e+00  4.427352e+00        0.0        0.0   \n",
       "MultipurposeRoom     5014.0  5.084164e+00  4.378795e+00        0.0        0.0   \n",
       "Hospital             5014.0  5.009374e+00  4.455793e+00        0.0        0.0   \n",
       "WashingMachine       5014.0  4.999601e+00  4.465663e+00        0.0        0.0   \n",
       "Gasconnection        5014.0  5.017750e+00  4.447298e+00        0.0        0.0   \n",
       "AC                   5014.0  4.996410e+00  4.468877e+00        0.0        0.0   \n",
       "Wifi                 5014.0  4.991823e+00  4.473489e+00        0.0        0.0   \n",
       "Children'splayarea   5014.0  5.202433e+00  4.251507e+00        0.0        1.0   \n",
       "LiftAvailable        5014.0  5.264260e+00  4.182092e+00        0.0        1.0   \n",
       "BED                  5014.0  4.999402e+00  4.465864e+00        0.0        0.0   \n",
       "VaastuCompliant      5014.0  5.068010e+00  4.395648e+00        0.0        0.0   \n",
       "Microwave            5014.0  4.997208e+00  4.468074e+00        0.0        0.0   \n",
       "GolfCourse           5014.0  4.991823e+00  4.473489e+00        0.0        0.0   \n",
       "TV                   5014.0  5.009174e+00  4.455995e+00        0.0        0.0   \n",
       "DiningTable          5014.0  5.011767e+00  4.453369e+00        0.0        0.0   \n",
       "Sofa                 5014.0  4.998404e+00  4.466869e+00        0.0        0.0   \n",
       "Wardrobe             5014.0  4.991823e+00  4.473489e+00        0.0        0.0   \n",
       "Refrigerator         5014.0  5.009174e+00  4.455995e+00        0.0        0.0   \n",
       "\n",
       "                           50%         75%          max  \n",
       "Price                5782000.0  8675000.00  190000000.0  \n",
       "Area                    1067.0     1438.75       7240.0  \n",
       "No. of Bedrooms            2.0        3.00          5.0  \n",
       "Resale                     0.0        0.00          1.0  \n",
       "MaintenanceStaff           9.0        9.00          9.0  \n",
       "Gymnasium                  9.0        9.00          9.0  \n",
       "SwimmingPool               9.0        9.00          9.0  \n",
       "LandscapedGardens          9.0        9.00          9.0  \n",
       "JoggingTrack               9.0        9.00          9.0  \n",
       "RainWaterHarvesting        9.0        9.00          9.0  \n",
       "IndoorGames                9.0        9.00          9.0  \n",
       "ShoppingMall               9.0        9.00          9.0  \n",
       "Intercom                   9.0        9.00          9.0  \n",
       "SportsFacility             9.0        9.00          9.0  \n",
       "ATM                        9.0        9.00          9.0  \n",
       "ClubHouse                  9.0        9.00          9.0  \n",
       "School                     9.0        9.00          9.0  \n",
       "24X7Security               9.0        9.00          9.0  \n",
       "PowerBackup                9.0        9.00          9.0  \n",
       "CarParking                 9.0        9.00          9.0  \n",
       "StaffQuarter               9.0        9.00          9.0  \n",
       "Cafeteria                  9.0        9.00          9.0  \n",
       "MultipurposeRoom           9.0        9.00          9.0  \n",
       "Hospital                   9.0        9.00          9.0  \n",
       "WashingMachine             9.0        9.00          9.0  \n",
       "Gasconnection              9.0        9.00          9.0  \n",
       "AC                         9.0        9.00          9.0  \n",
       "Wifi                       9.0        9.00          9.0  \n",
       "Children'splayarea         9.0        9.00          9.0  \n",
       "LiftAvailable              9.0        9.00          9.0  \n",
       "BED                        9.0        9.00          9.0  \n",
       "VaastuCompliant            9.0        9.00          9.0  \n",
       "Microwave                  9.0        9.00          9.0  \n",
       "GolfCourse                 9.0        9.00          9.0  \n",
       "TV                         9.0        9.00          9.0  \n",
       "DiningTable                9.0        9.00          9.0  \n",
       "Sofa                       9.0        9.00          9.0  \n",
       "Wardrobe                   9.0        9.00          9.0  \n",
       "Refrigerator               9.0        9.00          9.0  "
      ]
     },
     "execution_count": 3,
     "metadata": {},
     "output_type": "execute_result"
    }
   ],
   "source": [
    "chennai.describe().T"
   ]
  },
  {
   "cell_type": "code",
   "execution_count": 4,
   "id": "d7628aec",
   "metadata": {},
   "outputs": [
    {
     "data": {
      "text/plain": [
       "Price      Area  Location      No. of Bedrooms  Resale  MaintenanceStaff  Gymnasium  SwimmingPool  LandscapedGardens  JoggingTrack  RainWaterHarvesting  IndoorGames  ShoppingMall  Intercom  SportsFacility  ATM  ClubHouse  School  24X7Security  PowerBackup  CarParking  StaffQuarter  Cafeteria  MultipurposeRoom  Hospital  WashingMachine  Gasconnection  AC  Wifi  Children'splayarea  LiftAvailable  BED  VaastuCompliant  Microwave  GolfCourse  TV  DiningTable  Sofa  Wardrobe  Refrigerator\n",
       "2725000    639   Avadi         2                0       0                 0          1             0                  0             0                    0            0             0         0               0    1          0       0             1            0           0             0          0                 0         0               0              0   0     0                   1              0    0                0          0           0   0            0     0         0               14\n",
       "3399000    912   Vengaivasal   2                0       0                 0          0             0                  0             0                    0            0             0         0               0    0          0       0             0            0           0             0          0                 0         0               0              0   0     0                   0              0    0                0          0           0   0            0     0         0               14\n",
       "3881000    721   Ambattur      2                0       9                 9          9             9                  9             9                    9            9             9         9               9    9          9       9             9            9           9             9          9                 9         9               9              9   9     9                   9              9    9                9          9           9   9            9     9         9               13\n",
       "                                                        0                 0          0             0                  0             0                    0            0             0         0               0    0          0       0             0            0           0             0          0                 0         0               0              0   0     0                   0              0    0                0          0           0   0            0     0         0               13\n",
       "4800000    657   Jamalia       2                0       0                 0          0             0                  0             0                    0            0             0         0               0    0          0       0             0            0           0             0          0                 0         0               0              0   0     0                   1              0    0                0          0           0   0            0     0         0                9\n",
       "                                                                                                                                                                                                                                                                                                                                                                                                                                                                                                            ..\n",
       "4900000    1590  Mogappair     3                0       9                 9          9             9                  9             9                    9            9             9         9               9    9          9       9             9            9           9             9          9                 9         9               9              9   9     9                   9              9    9                9          9           9   9            9     9         9                1\n",
       "           1885  Nungambakkam  3                1       9                 9          9             9                  9             9                    9            9             9         9               9    9          9       9             9            9           9             9          9                 9         9               9              9   9     9                   9              9    9                9          9           9   9            9     9         9                1\n",
       "4904000    1091  Navallur      2                0       0                 1          0             0                  1             0                    0            0             0         0               0    0          0       1             0            0           0             0          0                 0         0               0              0   0     1                   0              0    0                0          0           0   0            0     0         0                1\n",
       "4906000    3470  Padur         4                0       9                 9          9             9                  9             9                    9            9             9         9               9    9          9       9             9            9           9             9          9                 9         9               9              9   9     9                   9              9    9                9          9           9   9            9     9         9                1\n",
       "190000000  7240  Nungambakkam  5                0       0                 1          1             1                  0             1                    0            0             1         0               0    1          0       0             1            0           0             0          0                 0         0               0              0   0     1                   1              0    1                0          0           0   0            0     0         0                1\n",
       "Length: 4307, dtype: int64"
      ]
     },
     "execution_count": 4,
     "metadata": {},
     "output_type": "execute_result"
    }
   ],
   "source": [
    "chennai.value_counts()"
   ]
  },
  {
   "cell_type": "code",
   "execution_count": 5,
   "id": "1bb85446",
   "metadata": {},
   "outputs": [
    {
     "name": "stdout",
     "output_type": "stream",
     "text": [
      "<class 'pandas.core.frame.DataFrame'>\n",
      "RangeIndex: 5014 entries, 0 to 5013\n",
      "Data columns (total 40 columns):\n",
      " #   Column               Non-Null Count  Dtype \n",
      "---  ------               --------------  ----- \n",
      " 0   Price                5014 non-null   int64 \n",
      " 1   Area                 5014 non-null   int64 \n",
      " 2   Location             5014 non-null   object\n",
      " 3   No. of Bedrooms      5014 non-null   int64 \n",
      " 4   Resale               5014 non-null   int64 \n",
      " 5   MaintenanceStaff     5014 non-null   int64 \n",
      " 6   Gymnasium            5014 non-null   int64 \n",
      " 7   SwimmingPool         5014 non-null   int64 \n",
      " 8   LandscapedGardens    5014 non-null   int64 \n",
      " 9   JoggingTrack         5014 non-null   int64 \n",
      " 10  RainWaterHarvesting  5014 non-null   int64 \n",
      " 11  IndoorGames          5014 non-null   int64 \n",
      " 12  ShoppingMall         5014 non-null   int64 \n",
      " 13  Intercom             5014 non-null   int64 \n",
      " 14  SportsFacility       5014 non-null   int64 \n",
      " 15  ATM                  5014 non-null   int64 \n",
      " 16  ClubHouse            5014 non-null   int64 \n",
      " 17  School               5014 non-null   int64 \n",
      " 18  24X7Security         5014 non-null   int64 \n",
      " 19  PowerBackup          5014 non-null   int64 \n",
      " 20  CarParking           5014 non-null   int64 \n",
      " 21  StaffQuarter         5014 non-null   int64 \n",
      " 22  Cafeteria            5014 non-null   int64 \n",
      " 23  MultipurposeRoom     5014 non-null   int64 \n",
      " 24  Hospital             5014 non-null   int64 \n",
      " 25  WashingMachine       5014 non-null   int64 \n",
      " 26  Gasconnection        5014 non-null   int64 \n",
      " 27  AC                   5014 non-null   int64 \n",
      " 28  Wifi                 5014 non-null   int64 \n",
      " 29  Children'splayarea   5014 non-null   int64 \n",
      " 30  LiftAvailable        5014 non-null   int64 \n",
      " 31  BED                  5014 non-null   int64 \n",
      " 32  VaastuCompliant      5014 non-null   int64 \n",
      " 33  Microwave            5014 non-null   int64 \n",
      " 34  GolfCourse           5014 non-null   int64 \n",
      " 35  TV                   5014 non-null   int64 \n",
      " 36  DiningTable          5014 non-null   int64 \n",
      " 37  Sofa                 5014 non-null   int64 \n",
      " 38  Wardrobe             5014 non-null   int64 \n",
      " 39  Refrigerator         5014 non-null   int64 \n",
      "dtypes: int64(39), object(1)\n",
      "memory usage: 1.5+ MB\n"
     ]
    }
   ],
   "source": [
    "chennai.info()"
   ]
  },
  {
   "cell_type": "code",
   "execution_count": 44,
   "id": "a415c2dd",
   "metadata": {},
   "outputs": [
    {
     "name": "stderr",
     "output_type": "stream",
     "text": [
      "C:\\Users\\suheeskar\\AppData\\Local\\Temp\\ipykernel_14132\\416193604.py:1: FutureWarning: The default value of regex will change from True to False in a future version. In addition, single character regular expressions will *not* be treated as literal strings when regex=True.\n",
      "  chennai.columns = chennai.columns.str.replace('.', '')\n"
     ]
    }
   ],
   "source": [
    "chennai.columns = chennai.columns.str.replace('.', '')"
   ]
  },
  {
   "cell_type": "code",
   "execution_count": 6,
   "id": "3be5615a",
   "metadata": {},
   "outputs": [
    {
     "data": {
      "text/plain": [
       "(5014, 40)"
      ]
     },
     "execution_count": 6,
     "metadata": {},
     "output_type": "execute_result"
    }
   ],
   "source": [
    "chennai.shape"
   ]
  },
  {
   "cell_type": "code",
   "execution_count": 7,
   "id": "2e65bc73",
   "metadata": {},
   "outputs": [
    {
     "name": "stdout",
     "output_type": "stream",
     "text": [
      "(5014, 40)\n",
      "(4307, 40)\n"
     ]
    }
   ],
   "source": [
    "print(chennai.shape)\n",
    "\n",
    "chennai.drop_duplicates(inplace=True)\n",
    "print(chennai.shape)\n"
   ]
  },
  {
   "cell_type": "code",
   "execution_count": 8,
   "id": "4434fde6",
   "metadata": {},
   "outputs": [
    {
     "data": {
      "text/plain": [
       "0"
      ]
     },
     "execution_count": 8,
     "metadata": {},
     "output_type": "execute_result"
    }
   ],
   "source": [
    "chennai.duplicated().sum()"
   ]
  },
  {
   "cell_type": "code",
   "execution_count": 45,
   "id": "1df8bb50",
   "metadata": {},
   "outputs": [
    {
     "data": {
      "text/plain": [
       "Index(['Price', 'Area', 'Location', 'No of Bedrooms', 'Resale',\n",
       "       'MaintenanceStaff', 'Gymnasium', 'SwimmingPool', 'LandscapedGardens',\n",
       "       'JoggingTrack', 'RainWaterHarvesting', 'IndoorGames', 'ShoppingMall',\n",
       "       'Intercom', 'SportsFacility', 'ATM', 'ClubHouse', 'School',\n",
       "       '24X7Security', 'PowerBackup', 'CarParking', 'StaffQuarter',\n",
       "       'Cafeteria', 'MultipurposeRoom', 'Hospital', 'WashingMachine',\n",
       "       'Gasconnection', 'AC', 'Wifi', 'Children'splayarea', 'LiftAvailable',\n",
       "       'BED', 'VaastuCompliant', 'Microwave', 'GolfCourse', 'TV',\n",
       "       'DiningTable', 'Sofa', 'Wardrobe', 'Refrigerator'],\n",
       "      dtype='object')"
      ]
     },
     "execution_count": 45,
     "metadata": {},
     "output_type": "execute_result"
    }
   ],
   "source": [
    "chennai.columns"
   ]
  },
  {
   "cell_type": "code",
   "execution_count": 47,
   "id": "4019e9f4",
   "metadata": {},
   "outputs": [],
   "source": [
    "chennai.columns=chennai.columns.str.lower()"
   ]
  },
  {
   "cell_type": "code",
   "execution_count": 48,
   "id": "2ab00941",
   "metadata": {},
   "outputs": [
    {
     "data": {
      "text/plain": [
       "price                  0\n",
       "area                   0\n",
       "location               0\n",
       "no of bedrooms         0\n",
       "resale                 0\n",
       "maintenancestaff       0\n",
       "gymnasium              0\n",
       "swimmingpool           0\n",
       "landscapedgardens      0\n",
       "joggingtrack           0\n",
       "rainwaterharvesting    0\n",
       "indoorgames            0\n",
       "shoppingmall           0\n",
       "intercom               0\n",
       "sportsfacility         0\n",
       "atm                    0\n",
       "clubhouse              0\n",
       "school                 0\n",
       "24x7security           0\n",
       "powerbackup            0\n",
       "carparking             0\n",
       "staffquarter           0\n",
       "cafeteria              0\n",
       "multipurposeroom       0\n",
       "hospital               0\n",
       "washingmachine         0\n",
       "gasconnection          0\n",
       "ac                     0\n",
       "wifi                   0\n",
       "children'splayarea     0\n",
       "liftavailable          0\n",
       "bed                    0\n",
       "vaastucompliant        0\n",
       "microwave              0\n",
       "golfcourse             0\n",
       "tv                     0\n",
       "diningtable            0\n",
       "sofa                   0\n",
       "wardrobe               0\n",
       "refrigerator           0\n",
       "dtype: int64"
      ]
     },
     "execution_count": 48,
     "metadata": {},
     "output_type": "execute_result"
    }
   ],
   "source": [
    "chennai.isnull().sum()"
   ]
  },
  {
   "cell_type": "code",
   "execution_count": 49,
   "id": "024741fc",
   "metadata": {},
   "outputs": [
    {
     "data": {
      "text/html": [
       "<div>\n",
       "<style scoped>\n",
       "    .dataframe tbody tr th:only-of-type {\n",
       "        vertical-align: middle;\n",
       "    }\n",
       "\n",
       "    .dataframe tbody tr th {\n",
       "        vertical-align: top;\n",
       "    }\n",
       "\n",
       "    .dataframe thead th {\n",
       "        text-align: right;\n",
       "    }\n",
       "</style>\n",
       "<table border=\"1\" class=\"dataframe\">\n",
       "  <thead>\n",
       "    <tr style=\"text-align: right;\">\n",
       "      <th></th>\n",
       "      <th>price</th>\n",
       "      <th>area</th>\n",
       "      <th>location</th>\n",
       "      <th>no of bedrooms</th>\n",
       "      <th>resale</th>\n",
       "      <th>maintenancestaff</th>\n",
       "      <th>gymnasium</th>\n",
       "      <th>swimmingpool</th>\n",
       "      <th>landscapedgardens</th>\n",
       "      <th>joggingtrack</th>\n",
       "      <th>...</th>\n",
       "      <th>liftavailable</th>\n",
       "      <th>bed</th>\n",
       "      <th>vaastucompliant</th>\n",
       "      <th>microwave</th>\n",
       "      <th>golfcourse</th>\n",
       "      <th>tv</th>\n",
       "      <th>diningtable</th>\n",
       "      <th>sofa</th>\n",
       "      <th>wardrobe</th>\n",
       "      <th>refrigerator</th>\n",
       "    </tr>\n",
       "  </thead>\n",
       "  <tbody>\n",
       "    <tr>\n",
       "      <th>0</th>\n",
       "      <td>5500000</td>\n",
       "      <td>1310</td>\n",
       "      <td>Perungalathur</td>\n",
       "      <td>3</td>\n",
       "      <td>0</td>\n",
       "      <td>0</td>\n",
       "      <td>0</td>\n",
       "      <td>0</td>\n",
       "      <td>0</td>\n",
       "      <td>0</td>\n",
       "      <td>...</td>\n",
       "      <td>0</td>\n",
       "      <td>0</td>\n",
       "      <td>0</td>\n",
       "      <td>0</td>\n",
       "      <td>0</td>\n",
       "      <td>0</td>\n",
       "      <td>0</td>\n",
       "      <td>0</td>\n",
       "      <td>0</td>\n",
       "      <td>0</td>\n",
       "    </tr>\n",
       "    <tr>\n",
       "      <th>1</th>\n",
       "      <td>5350000</td>\n",
       "      <td>1126</td>\n",
       "      <td>Madhavaram</td>\n",
       "      <td>2</td>\n",
       "      <td>0</td>\n",
       "      <td>0</td>\n",
       "      <td>1</td>\n",
       "      <td>1</td>\n",
       "      <td>1</td>\n",
       "      <td>0</td>\n",
       "      <td>...</td>\n",
       "      <td>1</td>\n",
       "      <td>0</td>\n",
       "      <td>0</td>\n",
       "      <td>0</td>\n",
       "      <td>0</td>\n",
       "      <td>0</td>\n",
       "      <td>0</td>\n",
       "      <td>0</td>\n",
       "      <td>0</td>\n",
       "      <td>0</td>\n",
       "    </tr>\n",
       "    <tr>\n",
       "      <th>2</th>\n",
       "      <td>8205000</td>\n",
       "      <td>1307</td>\n",
       "      <td>Karapakkam</td>\n",
       "      <td>3</td>\n",
       "      <td>0</td>\n",
       "      <td>0</td>\n",
       "      <td>1</td>\n",
       "      <td>1</td>\n",
       "      <td>1</td>\n",
       "      <td>1</td>\n",
       "      <td>...</td>\n",
       "      <td>0</td>\n",
       "      <td>0</td>\n",
       "      <td>0</td>\n",
       "      <td>0</td>\n",
       "      <td>0</td>\n",
       "      <td>0</td>\n",
       "      <td>0</td>\n",
       "      <td>0</td>\n",
       "      <td>0</td>\n",
       "      <td>0</td>\n",
       "    </tr>\n",
       "    <tr>\n",
       "      <th>3</th>\n",
       "      <td>23400000</td>\n",
       "      <td>3600</td>\n",
       "      <td>Thiruvidandhai</td>\n",
       "      <td>3</td>\n",
       "      <td>0</td>\n",
       "      <td>0</td>\n",
       "      <td>1</td>\n",
       "      <td>1</td>\n",
       "      <td>0</td>\n",
       "      <td>1</td>\n",
       "      <td>...</td>\n",
       "      <td>0</td>\n",
       "      <td>0</td>\n",
       "      <td>0</td>\n",
       "      <td>0</td>\n",
       "      <td>0</td>\n",
       "      <td>0</td>\n",
       "      <td>0</td>\n",
       "      <td>0</td>\n",
       "      <td>0</td>\n",
       "      <td>0</td>\n",
       "    </tr>\n",
       "    <tr>\n",
       "      <th>4</th>\n",
       "      <td>10100000</td>\n",
       "      <td>1700</td>\n",
       "      <td>Iyappanthangal</td>\n",
       "      <td>3</td>\n",
       "      <td>0</td>\n",
       "      <td>0</td>\n",
       "      <td>1</td>\n",
       "      <td>1</td>\n",
       "      <td>1</td>\n",
       "      <td>1</td>\n",
       "      <td>...</td>\n",
       "      <td>0</td>\n",
       "      <td>0</td>\n",
       "      <td>1</td>\n",
       "      <td>0</td>\n",
       "      <td>0</td>\n",
       "      <td>0</td>\n",
       "      <td>0</td>\n",
       "      <td>0</td>\n",
       "      <td>0</td>\n",
       "      <td>0</td>\n",
       "    </tr>\n",
       "  </tbody>\n",
       "</table>\n",
       "<p>5 rows × 40 columns</p>\n",
       "</div>"
      ],
      "text/plain": [
       "      price  area        location  no of bedrooms  resale  maintenancestaff  \\\n",
       "0   5500000  1310   Perungalathur               3       0                 0   \n",
       "1   5350000  1126      Madhavaram               2       0                 0   \n",
       "2   8205000  1307      Karapakkam               3       0                 0   \n",
       "3  23400000  3600  Thiruvidandhai               3       0                 0   \n",
       "4  10100000  1700  Iyappanthangal               3       0                 0   \n",
       "\n",
       "   gymnasium  swimmingpool  landscapedgardens  joggingtrack  ...  \\\n",
       "0          0             0                  0             0  ...   \n",
       "1          1             1                  1             0  ...   \n",
       "2          1             1                  1             1  ...   \n",
       "3          1             1                  0             1  ...   \n",
       "4          1             1                  1             1  ...   \n",
       "\n",
       "   liftavailable  bed  vaastucompliant  microwave  golfcourse  tv  \\\n",
       "0              0    0                0          0           0   0   \n",
       "1              1    0                0          0           0   0   \n",
       "2              0    0                0          0           0   0   \n",
       "3              0    0                0          0           0   0   \n",
       "4              0    0                1          0           0   0   \n",
       "\n",
       "   diningtable  sofa  wardrobe  refrigerator  \n",
       "0            0     0         0             0  \n",
       "1            0     0         0             0  \n",
       "2            0     0         0             0  \n",
       "3            0     0         0             0  \n",
       "4            0     0         0             0  \n",
       "\n",
       "[5 rows x 40 columns]"
      ]
     },
     "execution_count": 49,
     "metadata": {},
     "output_type": "execute_result"
    }
   ],
   "source": [
    "chennai.head()"
   ]
  },
  {
   "cell_type": "code",
   "execution_count": 51,
   "id": "c87cba96",
   "metadata": {},
   "outputs": [
    {
     "data": {
      "text/html": [
       "<div>\n",
       "<style scoped>\n",
       "    .dataframe tbody tr th:only-of-type {\n",
       "        vertical-align: middle;\n",
       "    }\n",
       "\n",
       "    .dataframe tbody tr th {\n",
       "        vertical-align: top;\n",
       "    }\n",
       "\n",
       "    .dataframe thead th {\n",
       "        text-align: right;\n",
       "    }\n",
       "</style>\n",
       "<table border=\"1\" class=\"dataframe\">\n",
       "  <thead>\n",
       "    <tr style=\"text-align: right;\">\n",
       "      <th></th>\n",
       "      <th>price</th>\n",
       "      <th>area</th>\n",
       "      <th>location</th>\n",
       "      <th>no of bedrooms</th>\n",
       "      <th>resale</th>\n",
       "      <th>maintenancestaff</th>\n",
       "      <th>gymnasium</th>\n",
       "      <th>swimmingpool</th>\n",
       "      <th>landscapedgardens</th>\n",
       "      <th>joggingtrack</th>\n",
       "      <th>...</th>\n",
       "      <th>liftavailable</th>\n",
       "      <th>bed</th>\n",
       "      <th>vaastucompliant</th>\n",
       "      <th>microwave</th>\n",
       "      <th>golfcourse</th>\n",
       "      <th>tv</th>\n",
       "      <th>diningtable</th>\n",
       "      <th>sofa</th>\n",
       "      <th>wardrobe</th>\n",
       "      <th>refrigerator</th>\n",
       "    </tr>\n",
       "  </thead>\n",
       "  <tbody>\n",
       "    <tr>\n",
       "      <th>3618</th>\n",
       "      <td>12500000</td>\n",
       "      <td>1275</td>\n",
       "      <td>Perungalathur</td>\n",
       "      <td>3</td>\n",
       "      <td>0</td>\n",
       "      <td>9</td>\n",
       "      <td>9</td>\n",
       "      <td>9</td>\n",
       "      <td>9</td>\n",
       "      <td>9</td>\n",
       "      <td>...</td>\n",
       "      <td>9</td>\n",
       "      <td>9</td>\n",
       "      <td>9</td>\n",
       "      <td>9</td>\n",
       "      <td>9</td>\n",
       "      <td>9</td>\n",
       "      <td>9</td>\n",
       "      <td>9</td>\n",
       "      <td>9</td>\n",
       "      <td>9</td>\n",
       "    </tr>\n",
       "    <tr>\n",
       "      <th>3724</th>\n",
       "      <td>9474000</td>\n",
       "      <td>1193</td>\n",
       "      <td>Perungalathur</td>\n",
       "      <td>3</td>\n",
       "      <td>0</td>\n",
       "      <td>9</td>\n",
       "      <td>9</td>\n",
       "      <td>9</td>\n",
       "      <td>9</td>\n",
       "      <td>9</td>\n",
       "      <td>...</td>\n",
       "      <td>9</td>\n",
       "      <td>9</td>\n",
       "      <td>9</td>\n",
       "      <td>9</td>\n",
       "      <td>9</td>\n",
       "      <td>9</td>\n",
       "      <td>9</td>\n",
       "      <td>9</td>\n",
       "      <td>9</td>\n",
       "      <td>9</td>\n",
       "    </tr>\n",
       "    <tr>\n",
       "      <th>3726</th>\n",
       "      <td>8512000</td>\n",
       "      <td>1450</td>\n",
       "      <td>Perungalathur</td>\n",
       "      <td>3</td>\n",
       "      <td>0</td>\n",
       "      <td>9</td>\n",
       "      <td>9</td>\n",
       "      <td>9</td>\n",
       "      <td>9</td>\n",
       "      <td>9</td>\n",
       "      <td>...</td>\n",
       "      <td>9</td>\n",
       "      <td>9</td>\n",
       "      <td>9</td>\n",
       "      <td>9</td>\n",
       "      <td>9</td>\n",
       "      <td>9</td>\n",
       "      <td>9</td>\n",
       "      <td>9</td>\n",
       "      <td>9</td>\n",
       "      <td>9</td>\n",
       "    </tr>\n",
       "    <tr>\n",
       "      <th>126</th>\n",
       "      <td>8108000</td>\n",
       "      <td>1931</td>\n",
       "      <td>Perungalathur</td>\n",
       "      <td>3</td>\n",
       "      <td>0</td>\n",
       "      <td>0</td>\n",
       "      <td>0</td>\n",
       "      <td>0</td>\n",
       "      <td>0</td>\n",
       "      <td>0</td>\n",
       "      <td>...</td>\n",
       "      <td>0</td>\n",
       "      <td>0</td>\n",
       "      <td>0</td>\n",
       "      <td>0</td>\n",
       "      <td>0</td>\n",
       "      <td>0</td>\n",
       "      <td>0</td>\n",
       "      <td>0</td>\n",
       "      <td>0</td>\n",
       "      <td>0</td>\n",
       "    </tr>\n",
       "    <tr>\n",
       "      <th>1745</th>\n",
       "      <td>6066000</td>\n",
       "      <td>1350</td>\n",
       "      <td>Perungalathur</td>\n",
       "      <td>3</td>\n",
       "      <td>0</td>\n",
       "      <td>0</td>\n",
       "      <td>1</td>\n",
       "      <td>0</td>\n",
       "      <td>0</td>\n",
       "      <td>0</td>\n",
       "      <td>...</td>\n",
       "      <td>1</td>\n",
       "      <td>0</td>\n",
       "      <td>0</td>\n",
       "      <td>0</td>\n",
       "      <td>0</td>\n",
       "      <td>0</td>\n",
       "      <td>0</td>\n",
       "      <td>0</td>\n",
       "      <td>0</td>\n",
       "      <td>0</td>\n",
       "    </tr>\n",
       "    <tr>\n",
       "      <th>1746</th>\n",
       "      <td>6066000</td>\n",
       "      <td>1350</td>\n",
       "      <td>Perungalathur</td>\n",
       "      <td>3</td>\n",
       "      <td>0</td>\n",
       "      <td>0</td>\n",
       "      <td>1</td>\n",
       "      <td>0</td>\n",
       "      <td>0</td>\n",
       "      <td>0</td>\n",
       "      <td>...</td>\n",
       "      <td>1</td>\n",
       "      <td>0</td>\n",
       "      <td>0</td>\n",
       "      <td>0</td>\n",
       "      <td>0</td>\n",
       "      <td>0</td>\n",
       "      <td>0</td>\n",
       "      <td>0</td>\n",
       "      <td>0</td>\n",
       "      <td>0</td>\n",
       "    </tr>\n",
       "    <tr>\n",
       "      <th>1747</th>\n",
       "      <td>5932000</td>\n",
       "      <td>1320</td>\n",
       "      <td>Perungalathur</td>\n",
       "      <td>3</td>\n",
       "      <td>0</td>\n",
       "      <td>0</td>\n",
       "      <td>1</td>\n",
       "      <td>0</td>\n",
       "      <td>0</td>\n",
       "      <td>0</td>\n",
       "      <td>...</td>\n",
       "      <td>1</td>\n",
       "      <td>0</td>\n",
       "      <td>0</td>\n",
       "      <td>0</td>\n",
       "      <td>0</td>\n",
       "      <td>0</td>\n",
       "      <td>0</td>\n",
       "      <td>0</td>\n",
       "      <td>0</td>\n",
       "      <td>0</td>\n",
       "    </tr>\n",
       "    <tr>\n",
       "      <th>0</th>\n",
       "      <td>5500000</td>\n",
       "      <td>1310</td>\n",
       "      <td>Perungalathur</td>\n",
       "      <td>3</td>\n",
       "      <td>0</td>\n",
       "      <td>0</td>\n",
       "      <td>0</td>\n",
       "      <td>0</td>\n",
       "      <td>0</td>\n",
       "      <td>0</td>\n",
       "      <td>...</td>\n",
       "      <td>0</td>\n",
       "      <td>0</td>\n",
       "      <td>0</td>\n",
       "      <td>0</td>\n",
       "      <td>0</td>\n",
       "      <td>0</td>\n",
       "      <td>0</td>\n",
       "      <td>0</td>\n",
       "      <td>0</td>\n",
       "      <td>0</td>\n",
       "    </tr>\n",
       "    <tr>\n",
       "      <th>20</th>\n",
       "      <td>5500000</td>\n",
       "      <td>1310</td>\n",
       "      <td>Perungalathur</td>\n",
       "      <td>3</td>\n",
       "      <td>0</td>\n",
       "      <td>0</td>\n",
       "      <td>0</td>\n",
       "      <td>0</td>\n",
       "      <td>0</td>\n",
       "      <td>0</td>\n",
       "      <td>...</td>\n",
       "      <td>0</td>\n",
       "      <td>0</td>\n",
       "      <td>0</td>\n",
       "      <td>0</td>\n",
       "      <td>0</td>\n",
       "      <td>0</td>\n",
       "      <td>0</td>\n",
       "      <td>0</td>\n",
       "      <td>0</td>\n",
       "      <td>0</td>\n",
       "    </tr>\n",
       "    <tr>\n",
       "      <th>1748</th>\n",
       "      <td>4664000</td>\n",
       "      <td>1038</td>\n",
       "      <td>Perungalathur</td>\n",
       "      <td>3</td>\n",
       "      <td>0</td>\n",
       "      <td>0</td>\n",
       "      <td>1</td>\n",
       "      <td>0</td>\n",
       "      <td>0</td>\n",
       "      <td>0</td>\n",
       "      <td>...</td>\n",
       "      <td>1</td>\n",
       "      <td>0</td>\n",
       "      <td>0</td>\n",
       "      <td>0</td>\n",
       "      <td>0</td>\n",
       "      <td>0</td>\n",
       "      <td>0</td>\n",
       "      <td>0</td>\n",
       "      <td>0</td>\n",
       "      <td>0</td>\n",
       "    </tr>\n",
       "    <tr>\n",
       "      <th>1749</th>\n",
       "      <td>4664000</td>\n",
       "      <td>1038</td>\n",
       "      <td>Perungalathur</td>\n",
       "      <td>3</td>\n",
       "      <td>0</td>\n",
       "      <td>0</td>\n",
       "      <td>1</td>\n",
       "      <td>0</td>\n",
       "      <td>0</td>\n",
       "      <td>0</td>\n",
       "      <td>...</td>\n",
       "      <td>1</td>\n",
       "      <td>0</td>\n",
       "      <td>0</td>\n",
       "      <td>0</td>\n",
       "      <td>0</td>\n",
       "      <td>0</td>\n",
       "      <td>0</td>\n",
       "      <td>0</td>\n",
       "      <td>0</td>\n",
       "      <td>0</td>\n",
       "    </tr>\n",
       "  </tbody>\n",
       "</table>\n",
       "<p>11 rows × 40 columns</p>\n",
       "</div>"
      ],
      "text/plain": [
       "         price  area       location  no of bedrooms  resale  maintenancestaff  \\\n",
       "3618  12500000  1275  Perungalathur               3       0                 9   \n",
       "3724   9474000  1193  Perungalathur               3       0                 9   \n",
       "3726   8512000  1450  Perungalathur               3       0                 9   \n",
       "126    8108000  1931  Perungalathur               3       0                 0   \n",
       "1745   6066000  1350  Perungalathur               3       0                 0   \n",
       "1746   6066000  1350  Perungalathur               3       0                 0   \n",
       "1747   5932000  1320  Perungalathur               3       0                 0   \n",
       "0      5500000  1310  Perungalathur               3       0                 0   \n",
       "20     5500000  1310  Perungalathur               3       0                 0   \n",
       "1748   4664000  1038  Perungalathur               3       0                 0   \n",
       "1749   4664000  1038  Perungalathur               3       0                 0   \n",
       "\n",
       "      gymnasium  swimmingpool  landscapedgardens  joggingtrack  ...  \\\n",
       "3618          9             9                  9             9  ...   \n",
       "3724          9             9                  9             9  ...   \n",
       "3726          9             9                  9             9  ...   \n",
       "126           0             0                  0             0  ...   \n",
       "1745          1             0                  0             0  ...   \n",
       "1746          1             0                  0             0  ...   \n",
       "1747          1             0                  0             0  ...   \n",
       "0             0             0                  0             0  ...   \n",
       "20            0             0                  0             0  ...   \n",
       "1748          1             0                  0             0  ...   \n",
       "1749          1             0                  0             0  ...   \n",
       "\n",
       "      liftavailable  bed  vaastucompliant  microwave  golfcourse  tv  \\\n",
       "3618              9    9                9          9           9   9   \n",
       "3724              9    9                9          9           9   9   \n",
       "3726              9    9                9          9           9   9   \n",
       "126               0    0                0          0           0   0   \n",
       "1745              1    0                0          0           0   0   \n",
       "1746              1    0                0          0           0   0   \n",
       "1747              1    0                0          0           0   0   \n",
       "0                 0    0                0          0           0   0   \n",
       "20                0    0                0          0           0   0   \n",
       "1748              1    0                0          0           0   0   \n",
       "1749              1    0                0          0           0   0   \n",
       "\n",
       "      diningtable  sofa  wardrobe  refrigerator  \n",
       "3618            9     9         9             9  \n",
       "3724            9     9         9             9  \n",
       "3726            9     9         9             9  \n",
       "126             0     0         0             0  \n",
       "1745            0     0         0             0  \n",
       "1746            0     0         0             0  \n",
       "1747            0     0         0             0  \n",
       "0               0     0         0             0  \n",
       "20              0     0         0             0  \n",
       "1748            0     0         0             0  \n",
       "1749            0     0         0             0  \n",
       "\n",
       "[11 rows x 40 columns]"
      ]
     },
     "execution_count": 51,
     "metadata": {},
     "output_type": "execute_result"
    }
   ],
   "source": [
    "chennai[(chennai['location']== 'Perungalathur') & (chennai['no of bedrooms']==3)].sort_values('price',ascending = False)"
   ]
  },
  {
   "cell_type": "code",
   "execution_count": 52,
   "id": "c1de57d3",
   "metadata": {},
   "outputs": [],
   "source": [
    "chennai.replace(9, np.nan, inplace=True)\n"
   ]
  },
  {
   "cell_type": "code",
   "execution_count": 53,
   "id": "e1225603",
   "metadata": {},
   "outputs": [],
   "source": [
    "chennai.dropna(inplace=True)"
   ]
  },
  {
   "cell_type": "code",
   "execution_count": 54,
   "id": "bcf8fd74",
   "metadata": {
    "scrolled": true
   },
   "outputs": [
    {
     "data": {
      "text/plain": [
       "(2233, 40)"
      ]
     },
     "execution_count": 54,
     "metadata": {},
     "output_type": "execute_result"
    }
   ],
   "source": [
    "chennai.shape"
   ]
  },
  {
   "cell_type": "code",
   "execution_count": 56,
   "id": "b1eb990f",
   "metadata": {},
   "outputs": [
    {
     "data": {
      "text/plain": [
       "<AxesSubplot:xlabel='no of bedrooms', ylabel='price'>"
      ]
     },
     "execution_count": 56,
     "metadata": {},
     "output_type": "execute_result"
    },
    {
     "data": {
      "image/png": "[encoded data removed]",
      "text/plain": [
       "<Figure size 432x288 with 1 Axes>"
      ]
     },
     "metadata": {
      "needs_background": "light"
     },
     "output_type": "display_data"
    }
   ],
   "source": [
    "sns.barplot(x='no of bedrooms', y='price',hue='resale',data = chennai)"
   ]
  },
  {
   "cell_type": "code",
   "execution_count": 17,
   "id": "c5c88c90",
   "metadata": {},
   "outputs": [],
   "source": [
    "from sklearn.preprocessing import StandardScaler\n",
    "from sklearn.model_selection import train_test_split,GridSearchCV"
   ]
  },
  {
   "cell_type": "code",
   "execution_count": 18,
   "id": "f4c9ab4b",
   "metadata": {},
   "outputs": [],
   "source": [
    "chennai['price']=np.log(chennai['price'])"
   ]
  },
  {
   "cell_type": "code",
   "execution_count": 19,
   "id": "60a0808f",
   "metadata": {},
   "outputs": [],
   "source": [
    "x = chennai.drop(['price','location'],axis = 1)\n",
    "y = chennai.price"
   ]
  },
  {
   "cell_type": "code",
   "execution_count": 22,
   "id": "3a29d975",
   "metadata": {},
   "outputs": [],
   "source": [
    "from sklearn.feature_selection import SelectKBest\n",
    "from sklearn.feature_selection import chi2\n",
    "from sklearn.preprocessing import MinMaxScaler\n",
    "from sklearn.feature_selection import f_classif\n",
    "\n",
    "features = x\n",
    "target = y"
   ]
  },
  {
   "cell_type": "markdown",
   "id": "a5b1c208",
   "metadata": {},
   "source": [
    "# Selecting best features"
   ]
  },
  {
   "cell_type": "code",
   "execution_count": 23,
   "id": "753488b5",
   "metadata": {},
   "outputs": [],
   "source": [
    "scaler1 = MinMaxScaler()\n",
    "features_normalized = scaler1.fit_transform(features)"
   ]
  },
  {
   "cell_type": "code",
   "execution_count": 24,
   "id": "47de8155",
   "metadata": {
    "collapsed": true
   },
   "outputs": [
    {
     "name": "stderr",
     "output_type": "stream",
     "text": [
      "C:\\Users\\suheeskar\\anaconda3\\lib\\site-packages\\sklearn\\feature_selection\\_univariate_selection.py:112: UserWarning: Features [26 32 36] are constant.\n",
      "  warnings.warn(\"Features %s are constant.\" % constant_features_idx, UserWarning)\n",
      "C:\\Users\\suheeskar\\anaconda3\\lib\\site-packages\\sklearn\\feature_selection\\_univariate_selection.py:113: RuntimeWarning: invalid value encountered in true_divide\n",
      "  f = msb / msw\n"
     ]
    }
   ],
   "source": [
    "best_features = SelectKBest(score_func = f_classif,k = 'all')  # ANOVA test\n",
    "fit = best_features.fit(features_normalized,target)\n"
   ]
  },
  {
   "cell_type": "code",
   "execution_count": 25,
   "id": "3ba2fa39",
   "metadata": {},
   "outputs": [],
   "source": [
    "columns = list(features.columns)"
   ]
  },
  {
   "cell_type": "code",
   "execution_count": 58,
   "id": "25359e68",
   "metadata": {},
   "outputs": [],
   "source": [
    "featureScores = pd.DataFrame(data = fit.scores_,index = list(columns),columns = ['Anova Score']) "
   ]
  },
  {
   "cell_type": "code",
   "execution_count": 59,
   "id": "e5795225",
   "metadata": {},
   "outputs": [
    {
     "data": {
      "text/html": [
       "<div>\n",
       "<style scoped>\n",
       "    .dataframe tbody tr th:only-of-type {\n",
       "        vertical-align: middle;\n",
       "    }\n",
       "\n",
       "    .dataframe tbody tr th {\n",
       "        vertical-align: top;\n",
       "    }\n",
       "\n",
       "    .dataframe thead th {\n",
       "        text-align: right;\n",
       "    }\n",
       "</style>\n",
       "<table border=\"1\" class=\"dataframe\">\n",
       "  <thead>\n",
       "    <tr style=\"text-align: right;\">\n",
       "      <th></th>\n",
       "      <th>Anova Score</th>\n",
       "    </tr>\n",
       "  </thead>\n",
       "  <tbody>\n",
       "    <tr>\n",
       "      <th>area</th>\n",
       "      <td>6.07</td>\n",
       "    </tr>\n",
       "    <tr>\n",
       "      <th>no. of bedrooms</th>\n",
       "      <td>3.14</td>\n",
       "    </tr>\n",
       "    <tr>\n",
       "      <th>refrigerator</th>\n",
       "      <td>2.55</td>\n",
       "    </tr>\n",
       "    <tr>\n",
       "      <th>diningtable</th>\n",
       "      <td>2.46</td>\n",
       "    </tr>\n",
       "    <tr>\n",
       "      <th>tv</th>\n",
       "      <td>2.11</td>\n",
       "    </tr>\n",
       "    <tr>\n",
       "      <th>gymnasium</th>\n",
       "      <td>2.01</td>\n",
       "    </tr>\n",
       "    <tr>\n",
       "      <th>landscapedgardens</th>\n",
       "      <td>1.87</td>\n",
       "    </tr>\n",
       "    <tr>\n",
       "      <th>sofa</th>\n",
       "      <td>1.84</td>\n",
       "    </tr>\n",
       "    <tr>\n",
       "      <th>swimmingpool</th>\n",
       "      <td>1.81</td>\n",
       "    </tr>\n",
       "    <tr>\n",
       "      <th>microwave</th>\n",
       "      <td>1.77</td>\n",
       "    </tr>\n",
       "    <tr>\n",
       "      <th>children'splayarea</th>\n",
       "      <td>1.75</td>\n",
       "    </tr>\n",
       "    <tr>\n",
       "      <th>cafeteria</th>\n",
       "      <td>1.60</td>\n",
       "    </tr>\n",
       "    <tr>\n",
       "      <th>indoorgames</th>\n",
       "      <td>1.58</td>\n",
       "    </tr>\n",
       "    <tr>\n",
       "      <th>washingmachine</th>\n",
       "      <td>1.53</td>\n",
       "    </tr>\n",
       "    <tr>\n",
       "      <th>multipurposeroom</th>\n",
       "      <td>1.53</td>\n",
       "    </tr>\n",
       "    <tr>\n",
       "      <th>joggingtrack</th>\n",
       "      <td>1.51</td>\n",
       "    </tr>\n",
       "    <tr>\n",
       "      <th>carparking</th>\n",
       "      <td>1.50</td>\n",
       "    </tr>\n",
       "    <tr>\n",
       "      <th>clubhouse</th>\n",
       "      <td>1.47</td>\n",
       "    </tr>\n",
       "    <tr>\n",
       "      <th>powerbackup</th>\n",
       "      <td>1.46</td>\n",
       "    </tr>\n",
       "    <tr>\n",
       "      <th>24x7security</th>\n",
       "      <td>1.38</td>\n",
       "    </tr>\n",
       "    <tr>\n",
       "      <th>atm</th>\n",
       "      <td>1.35</td>\n",
       "    </tr>\n",
       "    <tr>\n",
       "      <th>liftavailable</th>\n",
       "      <td>1.34</td>\n",
       "    </tr>\n",
       "    <tr>\n",
       "      <th>intercom</th>\n",
       "      <td>1.34</td>\n",
       "    </tr>\n",
       "    <tr>\n",
       "      <th>rainwaterharvesting</th>\n",
       "      <td>1.28</td>\n",
       "    </tr>\n",
       "    <tr>\n",
       "      <th>school</th>\n",
       "      <td>1.14</td>\n",
       "    </tr>\n",
       "    <tr>\n",
       "      <th>vaastucompliant</th>\n",
       "      <td>1.07</td>\n",
       "    </tr>\n",
       "    <tr>\n",
       "      <th>bed</th>\n",
       "      <td>1.06</td>\n",
       "    </tr>\n",
       "    <tr>\n",
       "      <th>shoppingmall</th>\n",
       "      <td>1.00</td>\n",
       "    </tr>\n",
       "    <tr>\n",
       "      <th>staffquarter</th>\n",
       "      <td>0.91</td>\n",
       "    </tr>\n",
       "    <tr>\n",
       "      <th>sportsfacility</th>\n",
       "      <td>0.91</td>\n",
       "    </tr>\n",
       "    <tr>\n",
       "      <th>resale</th>\n",
       "      <td>0.91</td>\n",
       "    </tr>\n",
       "    <tr>\n",
       "      <th>maintenancestaff</th>\n",
       "      <td>0.88</td>\n",
       "    </tr>\n",
       "    <tr>\n",
       "      <th>gasconnection</th>\n",
       "      <td>0.87</td>\n",
       "    </tr>\n",
       "    <tr>\n",
       "      <th>hospital</th>\n",
       "      <td>0.85</td>\n",
       "    </tr>\n",
       "    <tr>\n",
       "      <th>ac</th>\n",
       "      <td>0.77</td>\n",
       "    </tr>\n",
       "    <tr>\n",
       "      <th>wifi</th>\n",
       "      <td>NaN</td>\n",
       "    </tr>\n",
       "    <tr>\n",
       "      <th>golfcourse</th>\n",
       "      <td>NaN</td>\n",
       "    </tr>\n",
       "    <tr>\n",
       "      <th>wardrobe</th>\n",
       "      <td>NaN</td>\n",
       "    </tr>\n",
       "  </tbody>\n",
       "</table>\n",
       "</div>"
      ],
      "text/plain": [
       "                     Anova Score\n",
       "area                        6.07\n",
       "no. of bedrooms             3.14\n",
       "refrigerator                2.55\n",
       "diningtable                 2.46\n",
       "tv                          2.11\n",
       "gymnasium                   2.01\n",
       "landscapedgardens           1.87\n",
       "sofa                        1.84\n",
       "swimmingpool                1.81\n",
       "microwave                   1.77\n",
       "children'splayarea          1.75\n",
       "cafeteria                   1.60\n",
       "indoorgames                 1.58\n",
       "washingmachine              1.53\n",
       "multipurposeroom            1.53\n",
       "joggingtrack                1.51\n",
       "carparking                  1.50\n",
       "clubhouse                   1.47\n",
       "powerbackup                 1.46\n",
       "24x7security                1.38\n",
       "atm                         1.35\n",
       "liftavailable               1.34\n",
       "intercom                    1.34\n",
       "rainwaterharvesting         1.28\n",
       "school                      1.14\n",
       "vaastucompliant             1.07\n",
       "bed                         1.06\n",
       "shoppingmall                1.00\n",
       "staffquarter                0.91\n",
       "sportsfacility              0.91\n",
       "resale                      0.91\n",
       "maintenancestaff            0.88\n",
       "gasconnection               0.87\n",
       "hospital                    0.85\n",
       "ac                          0.77\n",
       "wifi                         NaN\n",
       "golfcourse                   NaN\n",
       "wardrobe                     NaN"
      ]
     },
     "execution_count": 59,
     "metadata": {},
     "output_type": "execute_result"
    }
   ],
   "source": [
    "featureScores.sort_values(by = 'Anova Score', ascending = False).round(2)"
   ]
  },
  {
   "cell_type": "markdown",
   "id": "74e8b129",
   "metadata": {},
   "source": [
    "# Data visualization"
   ]
  },
  {
   "cell_type": "code",
   "execution_count": 57,
   "id": "3524e8b0",
   "metadata": {
    "scrolled": false
   },
   "outputs": [
    {
     "data": {
      "text/plain": [
       "<AxesSubplot:xlabel='no of bedrooms', ylabel='price'>"
      ]
     },
     "execution_count": 57,
     "metadata": {},
     "output_type": "execute_result"
    },
    {
     "data": {
      "image/png": "[encoded data removed]",
      "text/plain": [
       "<Figure size 432x288 with 1 Axes>"
      ]
     },
     "metadata": {
      "needs_background": "light"
     },
     "output_type": "display_data"
    }
   ],
   "source": [
    "sns.barplot(x='no of bedrooms', y='price',hue='refrigerator',data = chennai)"
   ]
  },
  {
   "cell_type": "code",
   "execution_count": 30,
   "id": "d1f06cc6",
   "metadata": {},
   "outputs": [
    {
     "data": {
      "text/plain": [
       "<AxesSubplot:xlabel='diningtable', ylabel='price'>"
      ]
     },
     "execution_count": 30,
     "metadata": {},
     "output_type": "execute_result"
    },
    {
     "data": {
      "image/png": "[encoded data removed]",
      "text/plain": [
       "<Figure size 432x288 with 1 Axes>"
      ]
     },
     "metadata": {
      "needs_background": "light"
     },
     "output_type": "display_data"
    }
   ],
   "source": [
    "sns.boxplot(x='diningtable', y='price',data = chennai)"
   ]
  },
  {
   "cell_type": "code",
   "execution_count": 35,
   "id": "47742dbf",
   "metadata": {},
   "outputs": [
    {
     "data": {
      "text/plain": [
       "<AxesSubplot:xlabel='tv', ylabel='price'>"
      ]
     },
     "execution_count": 35,
     "metadata": {},
     "output_type": "execute_result"
    },
    {
     "data": {
      "image/png": "[encoded data removed]",
      "text/plain": [
       "<Figure size 432x288 with 1 Axes>"
      ]
     },
     "metadata": {
      "needs_background": "light"
     },
     "output_type": "display_data"
    }
   ],
   "source": [
    "sns.boxplot(x='tv', y='price',data = chennai)"
   ]
  },
  {
   "cell_type": "code",
   "execution_count": 38,
   "id": "8fc38be1",
   "metadata": {
    "scrolled": true
   },
   "outputs": [
    {
     "data": {
      "text/plain": [
       "<AxesSubplot:xlabel='tv', ylabel='price'>"
      ]
     },
     "execution_count": 38,
     "metadata": {},
     "output_type": "execute_result"
    },
    {
     "data": {
      "image/png": "[encoded data removed]",
      "text/plain": [
       "<Figure size 432x288 with 1 Axes>"
      ]
     },
     "metadata": {
      "needs_background": "light"
     },
     "output_type": "display_data"
    }
   ],
   "source": [
    "sns.boxplot(x='tv', y='price',hue='no. of bedrooms',data = chennai)"
   ]
  },
  {
   "cell_type": "code",
   "execution_count": 53,
   "id": "3c1dca12",
   "metadata": {},
   "outputs": [],
   "source": [
    "chennai['price'] = np.log(chennai['price'])"
   ]
  },
  {
   "cell_type": "code",
   "execution_count": 54,
   "id": "c3bf9f5c",
   "metadata": {},
   "outputs": [
    {
     "data": {
      "text/plain": [
       "<AxesSubplot:xlabel='price', ylabel='Count'>"
      ]
     },
     "execution_count": 54,
     "metadata": {},
     "output_type": "execute_result"
    },
    {
     "data": {
      "image/png": "[encoded data removed]",
      "text/plain": [
       "<Figure size 432x288 with 1 Axes>"
      ]
     },
     "metadata": {
      "needs_background": "light"
     },
     "output_type": "display_data"
    }
   ],
   "source": [
    "sns.histplot(x = 'price',data = chennai)"
   ]
  },
  {
   "cell_type": "code",
   "execution_count": 57,
   "id": "dd21211a",
   "metadata": {},
   "outputs": [
    {
     "data": {
      "text/plain": [
       "<AxesSubplot:xlabel='microwave', ylabel='price'>"
      ]
     },
     "execution_count": 57,
     "metadata": {},
     "output_type": "execute_result"
    },
    {
     "data": {
      "image/png": "[encoded data removed]",
      "text/plain": [
       "<Figure size 432x288 with 1 Axes>"
      ]
     },
     "metadata": {
      "needs_background": "light"
     },
     "output_type": "display_data"
    }
   ],
   "source": [
    "sns.boxplot(x = 'microwave',y = 'price',data = chennai)"
   ]
  },
  {
   "cell_type": "code",
   "execution_count": 62,
   "id": "7882b8ab",
   "metadata": {},
   "outputs": [],
   "source": [
    "col = chennai.corr().nlargest(20,'price').price.index"
   ]
  },
  {
   "cell_type": "markdown",
   "id": "7cdc84b3",
   "metadata": {},
   "source": [
    "## Finding correlated variables\n"
   ]
  },
  {
   "cell_type": "code",
   "execution_count": 65,
   "id": "05099523",
   "metadata": {},
   "outputs": [
    {
     "data": {
      "text/plain": [
       "<AxesSubplot:>"
      ]
     },
     "execution_count": 65,
     "metadata": {},
     "output_type": "execute_result"
    },
    {
     "data": {
      "image/png": "[encoded data removed]",
      "text/plain": [
       "<Figure size 1080x1080 with 2 Axes>"
      ]
     },
     "metadata": {
      "needs_background": "light"
     },
     "output_type": "display_data"
    }
   ],
   "source": [
    "plt.figure(figsize=(15,15))\n",
    "sns.heatmap(chennai[col].corr(),annot = True,cmap = 'RdYlGn', annot_kws = {\"size\":10})"
   ]
  },
  {
   "cell_type": "markdown",
   "id": "4942e041",
   "metadata": {},
   "source": [
    "# Splitting the data\n",
    "X_train_std =  is the standardized training data, which has a mean of zero and a standard deviation of one.\n",
    "\n",
    " scaler.transform(X_test) =  transforms the testing data using the mean and standard deviation calculated from the training data. It's important to note that we don't call fit() again on the scaler for the testing data because we want to use the same mean and standard deviation values that were calculated from the training data.\n"
   ]
  },
  {
   "cell_type": "code",
   "execution_count": 34,
   "id": "200b65d1",
   "metadata": {},
   "outputs": [],
   "source": [
    "x_train,x_test,y_train,y_test = train_test_split(x,y,test_size = 0.3,random_state = 42)\n",
    "\n",
    "scaler = StandardScaler()\n",
    "x_train.std = scaler.fit_transform(x_train)\n",
    "x_test.std = scaler.transform(x_test)\n",
    "x_std = scaler.transform(x)"
   ]
  },
  {
   "cell_type": "code",
   "execution_count": 35,
   "id": "d55aca11",
   "metadata": {},
   "outputs": [
    {
     "data": {
      "text/plain": [
       "((1563, 38), (1563,))"
      ]
     },
     "execution_count": 35,
     "metadata": {},
     "output_type": "execute_result"
    }
   ],
   "source": [
    "x_train.shape,y_train.shape"
   ]
  },
  {
   "cell_type": "code",
   "execution_count": 36,
   "id": "477fa3d6",
   "metadata": {},
   "outputs": [
    {
     "data": {
      "text/plain": [
       "((670, 38), (670,))"
      ]
     },
     "execution_count": 36,
     "metadata": {},
     "output_type": "execute_result"
    }
   ],
   "source": [
    "x_test.shape,y_test.shape"
   ]
  },
  {
   "cell_type": "markdown",
   "id": "f85ce52e",
   "metadata": {},
   "source": [
    "# Linear Regression model without tuning\n"
   ]
  },
  {
   "cell_type": "code",
   "execution_count": 45,
   "id": "99e401c9",
   "metadata": {
    "collapsed": true
   },
   "outputs": [],
   "source": [
    "\n",
    "from sklearn.linear_model import LinearRegression\n",
    "\n",
    "lg_model = LinearRegression()\n",
    "\n",
    "lg_model.fit(x_train.std, y_train)\n",
    "lg_pred = lg_model.predict(x_test.std)"
   ]
  },
  {
   "cell_type": "code",
   "execution_count": 47,
   "id": "def12c34",
   "metadata": {},
   "outputs": [
    {
     "name": "stdout",
     "output_type": "stream",
     "text": [
      "mae: 0.22624887411367697\n",
      "mse: 0.10376625142321194\n",
      "rmse: 0.32212769428164967\n",
      "r2: 0.7451188818308798\n"
     ]
    }
   ],
   "source": [
    "from sklearn.metrics import mean_absolute_error, mean_squared_error, r2_score\n",
    "\n",
    "lg_mae = mean_absolute_error(y_test, lg_pred)\n",
    "lg_mse = mean_squared_error(y_test, lg_pred)\n",
    "lg_rmse = mean_squared_error(y_test, lg_pred, squared=False)\n",
    "lg_r2 = r2_score(y_test, lg_pred)\n",
    "\n",
    "print(\"mae:\", lg_mae)\n",
    "print(\"mse:\", lg_mse)\n",
    "print(\"rmse:\", lg_rmse)\n",
    "print(\"r2:\", lg_r2)\n"
   ]
  },
  {
   "cell_type": "markdown",
   "id": "a3351c5e",
   "metadata": {},
   "source": [
    "# Linear Regression model with tuning\n",
    "alpha - controlls the strength of Regularization\n",
    "\n",
    "Solver - used for computing the co-effecients\n"
   ]
  },
  {
   "cell_type": "code",
   "execution_count": 41,
   "id": "a53a8170",
   "metadata": {
    "collapsed": true
   },
   "outputs": [],
   "source": [
    "from sklearn.linear_model import LinearRegression\n",
    "from sklearn.linear_model import Ridge, Lasso\n",
    "from sklearn.model_selection import GridSearchCV\n",
    "\n",
    "params_ridge = {'alpha': [0.1, 1, 10], \n",
    "                'solver': ['auto'],\n",
    "                'normalize': [True,False]}\n",
    "\n",
    "params_lasso = {'alpha': [0.1, 1, 10], 'normalize': [True,False]}\n",
    "\n",
    "grid_search_ridge = GridSearchCV(Ridge(), params_ridge, cv=5)\n",
    "\n",
    "grid_search_lasso = GridSearchCV(Lasso(), params_lasso, cv=5)\n"
   ]
  },
  {
   "cell_type": "code",
   "execution_count": 42,
   "id": "d4800544",
   "metadata": {},
   "outputs": [
    {
     "name": "stderr",
     "output_type": "stream",
     "text": [
      "C:\\Users\\suheeskar\\anaconda3\\lib\\site-packages\\sklearn\\linear_model\\_base.py:141: FutureWarning: 'normalize' was deprecated in version 1.0 and will be removed in 1.2.\n",
      "If you wish to scale the data, use Pipeline with a StandardScaler in a preprocessing stage. To reproduce the previous behavior:\n",
      "\n",
      "from sklearn.pipeline import make_pipeline\n",
      "\n",
      "model = make_pipeline(StandardScaler(with_mean=False), Ridge())\n",
      "\n",
      "If you wish to pass a sample_weight parameter, you need to pass it as a fit parameter to each step of the pipeline as follows:\n",
      "\n",
      "kwargs = {s[0] + '__sample_weight': sample_weight for s in model.steps}\n",
      "model.fit(X, y, **kwargs)\n",
      "\n",
      "Set parameter alpha to: original_alpha * n_samples. \n",
      "  warnings.warn(\n",
      "C:\\Users\\suheeskar\\anaconda3\\lib\\site-packages\\sklearn\\linear_model\\_base.py:141: FutureWarning: 'normalize' was deprecated in version 1.0 and will be removed in 1.2.\n",
      "If you wish to scale the data, use Pipeline with a StandardScaler in a preprocessing stage. To reproduce the previous behavior:\n",
      "\n",
      "from sklearn.pipeline import make_pipeline\n",
      "\n",
      "model = make_pipeline(StandardScaler(with_mean=False), Ridge())\n",
      "\n",
      "If you wish to pass a sample_weight parameter, you need to pass it as a fit parameter to each step of the pipeline as follows:\n",
      "\n",
      "kwargs = {s[0] + '__sample_weight': sample_weight for s in model.steps}\n",
      "model.fit(X, y, **kwargs)\n",
      "\n",
      "Set parameter alpha to: original_alpha * n_samples. \n",
      "  warnings.warn(\n",
      "C:\\Users\\suheeskar\\anaconda3\\lib\\site-packages\\sklearn\\linear_model\\_base.py:141: FutureWarning: 'normalize' was deprecated in version 1.0 and will be removed in 1.2.\n",
      "If you wish to scale the data, use Pipeline with a StandardScaler in a preprocessing stage. To reproduce the previous behavior:\n",
      "\n",
      "from sklearn.pipeline import make_pipeline\n",
      "\n",
      "model = make_pipeline(StandardScaler(with_mean=False), Ridge())\n",
      "\n",
      "If you wish to pass a sample_weight parameter, you need to pass it as a fit parameter to each step of the pipeline as follows:\n",
      "\n",
      "kwargs = {s[0] + '__sample_weight': sample_weight for s in model.steps}\n",
      "model.fit(X, y, **kwargs)\n",
      "\n",
      "Set parameter alpha to: original_alpha * n_samples. \n",
      "  warnings.warn(\n",
      "C:\\Users\\suheeskar\\anaconda3\\lib\\site-packages\\sklearn\\linear_model\\_base.py:141: FutureWarning: 'normalize' was deprecated in version 1.0 and will be removed in 1.2.\n",
      "If you wish to scale the data, use Pipeline with a StandardScaler in a preprocessing stage. To reproduce the previous behavior:\n",
      "\n",
      "from sklearn.pipeline import make_pipeline\n",
      "\n",
      "model = make_pipeline(StandardScaler(with_mean=False), Ridge())\n",
      "\n",
      "If you wish to pass a sample_weight parameter, you need to pass it as a fit parameter to each step of the pipeline as follows:\n",
      "\n",
      "kwargs = {s[0] + '__sample_weight': sample_weight for s in model.steps}\n",
      "model.fit(X, y, **kwargs)\n",
      "\n",
      "Set parameter alpha to: original_alpha * n_samples. \n",
      "  warnings.warn(\n",
      "C:\\Users\\suheeskar\\anaconda3\\lib\\site-packages\\sklearn\\linear_model\\_base.py:141: FutureWarning: 'normalize' was deprecated in version 1.0 and will be removed in 1.2.\n",
      "If you wish to scale the data, use Pipeline with a StandardScaler in a preprocessing stage. To reproduce the previous behavior:\n",
      "\n",
      "from sklearn.pipeline import make_pipeline\n",
      "\n",
      "model = make_pipeline(StandardScaler(with_mean=False), Ridge())\n",
      "\n",
      "If you wish to pass a sample_weight parameter, you need to pass it as a fit parameter to each step of the pipeline as follows:\n",
      "\n",
      "kwargs = {s[0] + '__sample_weight': sample_weight for s in model.steps}\n",
      "model.fit(X, y, **kwargs)\n",
      "\n",
      "Set parameter alpha to: original_alpha * n_samples. \n",
      "  warnings.warn(\n",
      "C:\\Users\\suheeskar\\anaconda3\\lib\\site-packages\\sklearn\\linear_model\\_base.py:148: FutureWarning: 'normalize' was deprecated in version 1.0 and will be removed in 1.2. Please leave the normalize parameter to its default value to silence this warning. The default behavior of this estimator is to not do any normalization. If normalization is needed please use sklearn.preprocessing.StandardScaler instead.\n",
      "  warnings.warn(\n",
      "C:\\Users\\suheeskar\\anaconda3\\lib\\site-packages\\sklearn\\linear_model\\_base.py:148: FutureWarning: 'normalize' was deprecated in version 1.0 and will be removed in 1.2. Please leave the normalize parameter to its default value to silence this warning. The default behavior of this estimator is to not do any normalization. If normalization is needed please use sklearn.preprocessing.StandardScaler instead.\n",
      "  warnings.warn(\n",
      "C:\\Users\\suheeskar\\anaconda3\\lib\\site-packages\\sklearn\\linear_model\\_base.py:148: FutureWarning: 'normalize' was deprecated in version 1.0 and will be removed in 1.2. Please leave the normalize parameter to its default value to silence this warning. The default behavior of this estimator is to not do any normalization. If normalization is needed please use sklearn.preprocessing.StandardScaler instead.\n",
      "  warnings.warn(\n",
      "C:\\Users\\suheeskar\\anaconda3\\lib\\site-packages\\sklearn\\linear_model\\_base.py:148: FutureWarning: 'normalize' was deprecated in version 1.0 and will be removed in 1.2. Please leave the normalize parameter to its default value to silence this warning. The default behavior of this estimator is to not do any normalization. If normalization is needed please use sklearn.preprocessing.StandardScaler instead.\n",
      "  warnings.warn(\n",
      "C:\\Users\\suheeskar\\anaconda3\\lib\\site-packages\\sklearn\\linear_model\\_base.py:148: FutureWarning: 'normalize' was deprecated in version 1.0 and will be removed in 1.2. Please leave the normalize parameter to its default value to silence this warning. The default behavior of this estimator is to not do any normalization. If normalization is needed please use sklearn.preprocessing.StandardScaler instead.\n",
      "  warnings.warn(\n",
      "C:\\Users\\suheeskar\\anaconda3\\lib\\site-packages\\sklearn\\linear_model\\_base.py:141: FutureWarning: 'normalize' was deprecated in version 1.0 and will be removed in 1.2.\n",
      "If you wish to scale the data, use Pipeline with a StandardScaler in a preprocessing stage. To reproduce the previous behavior:\n",
      "\n",
      "from sklearn.pipeline import make_pipeline\n",
      "\n",
      "model = make_pipeline(StandardScaler(with_mean=False), Ridge())\n",
      "\n",
      "If you wish to pass a sample_weight parameter, you need to pass it as a fit parameter to each step of the pipeline as follows:\n",
      "\n",
      "kwargs = {s[0] + '__sample_weight': sample_weight for s in model.steps}\n",
      "model.fit(X, y, **kwargs)\n",
      "\n",
      "Set parameter alpha to: original_alpha * n_samples. \n",
      "  warnings.warn(\n",
      "C:\\Users\\suheeskar\\anaconda3\\lib\\site-packages\\sklearn\\linear_model\\_base.py:141: FutureWarning: 'normalize' was deprecated in version 1.0 and will be removed in 1.2.\n",
      "If you wish to scale the data, use Pipeline with a StandardScaler in a preprocessing stage. To reproduce the previous behavior:\n",
      "\n",
      "from sklearn.pipeline import make_pipeline\n",
      "\n",
      "model = make_pipeline(StandardScaler(with_mean=False), Ridge())\n",
      "\n",
      "If you wish to pass a sample_weight parameter, you need to pass it as a fit parameter to each step of the pipeline as follows:\n",
      "\n",
      "kwargs = {s[0] + '__sample_weight': sample_weight for s in model.steps}\n",
      "model.fit(X, y, **kwargs)\n",
      "\n",
      "Set parameter alpha to: original_alpha * n_samples. \n",
      "  warnings.warn(\n",
      "C:\\Users\\suheeskar\\anaconda3\\lib\\site-packages\\sklearn\\linear_model\\_base.py:141: FutureWarning: 'normalize' was deprecated in version 1.0 and will be removed in 1.2.\n",
      "If you wish to scale the data, use Pipeline with a StandardScaler in a preprocessing stage. To reproduce the previous behavior:\n",
      "\n",
      "from sklearn.pipeline import make_pipeline\n",
      "\n",
      "model = make_pipeline(StandardScaler(with_mean=False), Ridge())\n",
      "\n",
      "If you wish to pass a sample_weight parameter, you need to pass it as a fit parameter to each step of the pipeline as follows:\n",
      "\n",
      "kwargs = {s[0] + '__sample_weight': sample_weight for s in model.steps}\n",
      "model.fit(X, y, **kwargs)\n",
      "\n",
      "Set parameter alpha to: original_alpha * n_samples. \n",
      "  warnings.warn(\n",
      "C:\\Users\\suheeskar\\anaconda3\\lib\\site-packages\\sklearn\\linear_model\\_base.py:141: FutureWarning: 'normalize' was deprecated in version 1.0 and will be removed in 1.2.\n",
      "If you wish to scale the data, use Pipeline with a StandardScaler in a preprocessing stage. To reproduce the previous behavior:\n",
      "\n",
      "from sklearn.pipeline import make_pipeline\n",
      "\n",
      "model = make_pipeline(StandardScaler(with_mean=False), Ridge())\n",
      "\n",
      "If you wish to pass a sample_weight parameter, you need to pass it as a fit parameter to each step of the pipeline as follows:\n",
      "\n",
      "kwargs = {s[0] + '__sample_weight': sample_weight for s in model.steps}\n",
      "model.fit(X, y, **kwargs)\n",
      "\n",
      "Set parameter alpha to: original_alpha * n_samples. \n",
      "  warnings.warn(\n",
      "C:\\Users\\suheeskar\\anaconda3\\lib\\site-packages\\sklearn\\linear_model\\_base.py:141: FutureWarning: 'normalize' was deprecated in version 1.0 and will be removed in 1.2.\n",
      "If you wish to scale the data, use Pipeline with a StandardScaler in a preprocessing stage. To reproduce the previous behavior:\n",
      "\n",
      "from sklearn.pipeline import make_pipeline\n",
      "\n",
      "model = make_pipeline(StandardScaler(with_mean=False), Ridge())\n",
      "\n",
      "If you wish to pass a sample_weight parameter, you need to pass it as a fit parameter to each step of the pipeline as follows:\n",
      "\n",
      "kwargs = {s[0] + '__sample_weight': sample_weight for s in model.steps}\n",
      "model.fit(X, y, **kwargs)\n",
      "\n",
      "Set parameter alpha to: original_alpha * n_samples. \n",
      "  warnings.warn(\n",
      "C:\\Users\\suheeskar\\anaconda3\\lib\\site-packages\\sklearn\\linear_model\\_base.py:148: FutureWarning: 'normalize' was deprecated in version 1.0 and will be removed in 1.2. Please leave the normalize parameter to its default value to silence this warning. The default behavior of this estimator is to not do any normalization. If normalization is needed please use sklearn.preprocessing.StandardScaler instead.\n",
      "  warnings.warn(\n",
      "C:\\Users\\suheeskar\\anaconda3\\lib\\site-packages\\sklearn\\linear_model\\_base.py:148: FutureWarning: 'normalize' was deprecated in version 1.0 and will be removed in 1.2. Please leave the normalize parameter to its default value to silence this warning. The default behavior of this estimator is to not do any normalization. If normalization is needed please use sklearn.preprocessing.StandardScaler instead.\n",
      "  warnings.warn(\n",
      "C:\\Users\\suheeskar\\anaconda3\\lib\\site-packages\\sklearn\\linear_model\\_base.py:148: FutureWarning: 'normalize' was deprecated in version 1.0 and will be removed in 1.2. Please leave the normalize parameter to its default value to silence this warning. The default behavior of this estimator is to not do any normalization. If normalization is needed please use sklearn.preprocessing.StandardScaler instead.\n",
      "  warnings.warn(\n",
      "C:\\Users\\suheeskar\\anaconda3\\lib\\site-packages\\sklearn\\linear_model\\_base.py:148: FutureWarning: 'normalize' was deprecated in version 1.0 and will be removed in 1.2. Please leave the normalize parameter to its default value to silence this warning. The default behavior of this estimator is to not do any normalization. If normalization is needed please use sklearn.preprocessing.StandardScaler instead.\n",
      "  warnings.warn(\n",
      "C:\\Users\\suheeskar\\anaconda3\\lib\\site-packages\\sklearn\\linear_model\\_base.py:148: FutureWarning: 'normalize' was deprecated in version 1.0 and will be removed in 1.2. Please leave the normalize parameter to its default value to silence this warning. The default behavior of this estimator is to not do any normalization. If normalization is needed please use sklearn.preprocessing.StandardScaler instead.\n",
      "  warnings.warn(\n",
      "C:\\Users\\suheeskar\\anaconda3\\lib\\site-packages\\sklearn\\linear_model\\_base.py:141: FutureWarning: 'normalize' was deprecated in version 1.0 and will be removed in 1.2.\n",
      "If you wish to scale the data, use Pipeline with a StandardScaler in a preprocessing stage. To reproduce the previous behavior:\n",
      "\n",
      "from sklearn.pipeline import make_pipeline\n",
      "\n",
      "model = make_pipeline(StandardScaler(with_mean=False), Ridge())\n",
      "\n",
      "If you wish to pass a sample_weight parameter, you need to pass it as a fit parameter to each step of the pipeline as follows:\n",
      "\n",
      "kwargs = {s[0] + '__sample_weight': sample_weight for s in model.steps}\n",
      "model.fit(X, y, **kwargs)\n",
      "\n",
      "Set parameter alpha to: original_alpha * n_samples. \n",
      "  warnings.warn(\n",
      "C:\\Users\\suheeskar\\anaconda3\\lib\\site-packages\\sklearn\\linear_model\\_base.py:141: FutureWarning: 'normalize' was deprecated in version 1.0 and will be removed in 1.2.\n",
      "If you wish to scale the data, use Pipeline with a StandardScaler in a preprocessing stage. To reproduce the previous behavior:\n",
      "\n",
      "from sklearn.pipeline import make_pipeline\n",
      "\n",
      "model = make_pipeline(StandardScaler(with_mean=False), Ridge())\n",
      "\n",
      "If you wish to pass a sample_weight parameter, you need to pass it as a fit parameter to each step of the pipeline as follows:\n",
      "\n",
      "kwargs = {s[0] + '__sample_weight': sample_weight for s in model.steps}\n",
      "model.fit(X, y, **kwargs)\n",
      "\n",
      "Set parameter alpha to: original_alpha * n_samples. \n",
      "  warnings.warn(\n",
      "C:\\Users\\suheeskar\\anaconda3\\lib\\site-packages\\sklearn\\linear_model\\_base.py:141: FutureWarning: 'normalize' was deprecated in version 1.0 and will be removed in 1.2.\n",
      "If you wish to scale the data, use Pipeline with a StandardScaler in a preprocessing stage. To reproduce the previous behavior:\n",
      "\n",
      "from sklearn.pipeline import make_pipeline\n",
      "\n",
      "model = make_pipeline(StandardScaler(with_mean=False), Ridge())\n",
      "\n",
      "If you wish to pass a sample_weight parameter, you need to pass it as a fit parameter to each step of the pipeline as follows:\n",
      "\n",
      "kwargs = {s[0] + '__sample_weight': sample_weight for s in model.steps}\n",
      "model.fit(X, y, **kwargs)\n",
      "\n",
      "Set parameter alpha to: original_alpha * n_samples. \n",
      "  warnings.warn(\n",
      "C:\\Users\\suheeskar\\anaconda3\\lib\\site-packages\\sklearn\\linear_model\\_base.py:141: FutureWarning: 'normalize' was deprecated in version 1.0 and will be removed in 1.2.\n",
      "If you wish to scale the data, use Pipeline with a StandardScaler in a preprocessing stage. To reproduce the previous behavior:\n",
      "\n",
      "from sklearn.pipeline import make_pipeline\n",
      "\n",
      "model = make_pipeline(StandardScaler(with_mean=False), Ridge())\n",
      "\n",
      "If you wish to pass a sample_weight parameter, you need to pass it as a fit parameter to each step of the pipeline as follows:\n",
      "\n",
      "kwargs = {s[0] + '__sample_weight': sample_weight for s in model.steps}\n",
      "model.fit(X, y, **kwargs)\n",
      "\n",
      "Set parameter alpha to: original_alpha * n_samples. \n",
      "  warnings.warn(\n",
      "C:\\Users\\suheeskar\\anaconda3\\lib\\site-packages\\sklearn\\linear_model\\_base.py:141: FutureWarning: 'normalize' was deprecated in version 1.0 and will be removed in 1.2.\n",
      "If you wish to scale the data, use Pipeline with a StandardScaler in a preprocessing stage. To reproduce the previous behavior:\n",
      "\n",
      "from sklearn.pipeline import make_pipeline\n",
      "\n",
      "model = make_pipeline(StandardScaler(with_mean=False), Ridge())\n",
      "\n",
      "If you wish to pass a sample_weight parameter, you need to pass it as a fit parameter to each step of the pipeline as follows:\n",
      "\n",
      "kwargs = {s[0] + '__sample_weight': sample_weight for s in model.steps}\n",
      "model.fit(X, y, **kwargs)\n",
      "\n",
      "Set parameter alpha to: original_alpha * n_samples. \n",
      "  warnings.warn(\n",
      "C:\\Users\\suheeskar\\anaconda3\\lib\\site-packages\\sklearn\\linear_model\\_base.py:148: FutureWarning: 'normalize' was deprecated in version 1.0 and will be removed in 1.2. Please leave the normalize parameter to its default value to silence this warning. The default behavior of this estimator is to not do any normalization. If normalization is needed please use sklearn.preprocessing.StandardScaler instead.\n",
      "  warnings.warn(\n",
      "C:\\Users\\suheeskar\\anaconda3\\lib\\site-packages\\sklearn\\linear_model\\_base.py:148: FutureWarning: 'normalize' was deprecated in version 1.0 and will be removed in 1.2. Please leave the normalize parameter to its default value to silence this warning. The default behavior of this estimator is to not do any normalization. If normalization is needed please use sklearn.preprocessing.StandardScaler instead.\n",
      "  warnings.warn(\n",
      "C:\\Users\\suheeskar\\anaconda3\\lib\\site-packages\\sklearn\\linear_model\\_base.py:148: FutureWarning: 'normalize' was deprecated in version 1.0 and will be removed in 1.2. Please leave the normalize parameter to its default value to silence this warning. The default behavior of this estimator is to not do any normalization. If normalization is needed please use sklearn.preprocessing.StandardScaler instead.\n",
      "  warnings.warn(\n",
      "C:\\Users\\suheeskar\\anaconda3\\lib\\site-packages\\sklearn\\linear_model\\_base.py:148: FutureWarning: 'normalize' was deprecated in version 1.0 and will be removed in 1.2. Please leave the normalize parameter to its default value to silence this warning. The default behavior of this estimator is to not do any normalization. If normalization is needed please use sklearn.preprocessing.StandardScaler instead.\n",
      "  warnings.warn(\n",
      "C:\\Users\\suheeskar\\anaconda3\\lib\\site-packages\\sklearn\\linear_model\\_base.py:148: FutureWarning: 'normalize' was deprecated in version 1.0 and will be removed in 1.2. Please leave the normalize parameter to its default value to silence this warning. The default behavior of this estimator is to not do any normalization. If normalization is needed please use sklearn.preprocessing.StandardScaler instead.\n",
      "  warnings.warn(\n",
      "C:\\Users\\suheeskar\\anaconda3\\lib\\site-packages\\sklearn\\linear_model\\_base.py:148: FutureWarning: 'normalize' was deprecated in version 1.0 and will be removed in 1.2. Please leave the normalize parameter to its default value to silence this warning. The default behavior of this estimator is to not do any normalization. If normalization is needed please use sklearn.preprocessing.StandardScaler instead.\n",
      "  warnings.warn(\n"
     ]
    },
    {
     "data": {
      "text/plain": [
       "GridSearchCV(cv=5, estimator=Ridge(),\n",
       "             param_grid={'alpha': [0.1, 1, 10], 'normalize': [True, False],\n",
       "                         'solver': ['auto']})"
      ]
     },
     "execution_count": 42,
     "metadata": {},
     "output_type": "execute_result"
    }
   ],
   "source": [
    "grid_search_ridge.fit(x_train.std, y_train)"
   ]
  },
  {
   "cell_type": "code",
   "execution_count": 43,
   "id": "2ba0dd05",
   "metadata": {
    "collapsed": true
   },
   "outputs": [],
   "source": [
    "y_pred_grid = grid_search_ridge.predict(x_test.std)\n",
    "\n",
    "best_params = grid_search_ridge.best_params_"
   ]
  },
  {
   "cell_type": "code",
   "execution_count": 46,
   "id": "3456a415",
   "metadata": {},
   "outputs": [
    {
     "name": "stdout",
     "output_type": "stream",
     "text": [
      "mae: 0.22651351028257039\n",
      "mse: (1034    15.593002\n",
      "426     15.023575\n",
      "482     15.681295\n",
      "755     17.216708\n",
      "445     15.250595\n",
      "          ...    \n",
      "1866    15.925724\n",
      "1927    15.573368\n",
      "932     15.421743\n",
      "1506    15.673838\n",
      "1017    15.319588\n",
      "Name: price, Length: 670, dtype: float64, array([15.56673552, 15.26398723, 15.60029385, 16.38423981, 15.30612137,\n",
      "       15.6941444 , 15.62048013, 15.24040701, 16.10415418, 15.82459836,\n",
      "       15.61015906, 16.0378077 , 16.17724591, 15.19852179, 15.96372053,\n",
      "       16.03273515, 16.00559688, 15.24905239, 15.32887175, 15.30269445,\n",
      "       15.60043058, 16.87855643, 15.66820089, 14.89623973, 16.26052576,\n",
      "       14.91475031, 15.17567992, 15.30235901, 15.77757573, 15.30454418,\n",
      "       15.40318293, 16.34341252, 16.07978286, 15.29837843, 14.89625305,\n",
      "       15.29344582, 15.30947678, 16.08205223, 15.26815291, 15.63483437,\n",
      "       14.99567764, 15.17567992, 15.29847059, 15.35885328, 15.22747225,\n",
      "       15.34835817, 16.35294346, 15.31136365, 15.31269668, 16.1690433 ,\n",
      "       15.33323923, 15.69568252, 15.17189212, 15.5228553 , 17.0779003 ,\n",
      "       16.12185434, 14.88173637, 15.20037152, 16.58529205, 15.49532281,\n",
      "       14.93690814, 15.40157826, 15.34551929, 15.30800264, 15.33873696,\n",
      "       15.28665017, 16.33686174, 15.90275165, 16.761482  , 15.30453086,\n",
      "       15.24780592, 15.46636807, 15.60452981, 15.28604692, 15.60801749,\n",
      "       16.61858162, 15.30212834, 15.62571018, 16.00564231, 15.27191614,\n",
      "       15.23362468, 15.98566599, 15.99846919, 15.33229008, 14.83728049,\n",
      "       15.44590285, 15.12545145, 15.5941281 , 15.54309789, 15.40032013,\n",
      "       15.96130391, 15.6955712 , 15.24411979, 15.43336065, 15.44931498,\n",
      "       15.24164016, 15.61910252, 15.86593924, 15.61842449, 16.01130123,\n",
      "       14.94339391, 14.91351716, 16.08056359, 15.24326222, 16.0378077 ,\n",
      "       15.27741486, 15.92258441, 16.33571777, 15.30212834, 15.24141249,\n",
      "       14.89742276, 15.30268113, 14.92090275, 15.47459457, 15.36725425,\n",
      "       15.45132627, 15.31810884, 15.21666768, 16.17222742, 15.18554512,\n",
      "       15.30595162, 15.34243641, 16.16914454, 14.96818613, 16.10228899,\n",
      "       15.88329126, 15.04114828, 15.32286082, 16.1153473 , 15.46375177,\n",
      "       15.52587585, 15.41256091, 15.36253941, 15.20519447, 15.79482652,\n",
      "       15.81005057, 16.27452426, 16.08144461, 15.44521122, 14.66952599,\n",
      "       16.08479516, 15.75291648, 16.37334646, 15.47563991, 15.29344582,\n",
      "       15.17320029, 14.82842975, 15.41025971, 15.59365713, 15.89164218,\n",
      "       15.27371541, 16.33240458, 15.17567992, 17.14578529, 15.6997066 ,\n",
      "       15.6345501 , 15.4636711 , 15.54446849, 15.54309789, 15.16643129,\n",
      "       14.80224773, 15.33474305, 15.55448698, 16.60975492, 14.94204253,\n",
      "       17.19685292, 15.17559157, 16.80893196, 15.31503162, 16.359239  ,\n",
      "       15.30612137, 15.60170657, 14.91103754, 14.85925853, 15.18924458,\n",
      "       15.345283  , 15.29837843, 15.29097952, 16.04764232, 15.26260373,\n",
      "       15.68077339, 15.36312261, 15.2564513 , 15.30947678, 14.85925853,\n",
      "       15.3181593 , 15.24040701, 16.70555744, 15.99107373, 15.36628956,\n",
      "       16.02236104, 16.17222742, 15.93847495, 15.28604692, 15.61015906,\n",
      "       15.98216701, 16.08082803, 15.76814647, 15.83545792, 16.0378077 ,\n",
      "       15.20470942, 14.93690814, 16.33321058, 15.94331009, 15.69873307,\n",
      "       15.83569672, 15.29493145, 15.60029385, 15.26015075, 15.55319366,\n",
      "       15.7276198 , 15.69230886, 15.25521815, 15.69639241, 15.91124046,\n",
      "       15.30235901, 15.72516682, 15.04681596, 15.59568598, 16.53218801,\n",
      "       15.32986091, 15.30212834, 15.52706693, 15.17567992, 14.8218661 ,\n",
      "       15.90631557, 16.06729986, 15.28321387, 14.85679222, 14.98704559,\n",
      "       15.39768421, 15.55388039, 15.17189212, 15.48333773, 15.4256741 ,\n",
      "       17.08188372, 16.055284  , 15.81052562, 15.66537888, 14.93690814,\n",
      "       15.40020121, 14.84996928, 15.0059425 , 15.34893761, 15.00356026,\n",
      "       15.24966897, 15.65117777, 15.85188371, 16.38168491, 15.4453166 ,\n",
      "       16.17442332, 15.00356026, 15.55546341, 15.64653701, 15.9335504 ,\n",
      "       15.16025221, 15.3508378 , 15.42033593, 15.69617445, 15.87357196,\n",
      "       16.26224975, 15.33535963, 15.34153871, 15.31009336, 15.60029385,\n",
      "       15.99628117, 16.55607337, 14.92708182, 15.72313763, 15.25572082,\n",
      "       15.6260595 , 15.20404239, 15.72096212, 15.28604692, 15.03677132,\n",
      "       15.48893737, 15.58118002, 16.10415418, 15.32925766, 15.38963159,\n",
      "       15.49781342, 15.66844754, 15.57170605, 15.2581204 , 15.31132651,\n",
      "       15.87924458, 15.64343368, 14.93217618, 15.82930709, 14.94251612,\n",
      "       16.20159357, 15.67473876, 15.67133676, 15.29344582, 15.32887175,\n",
      "       14.93032645, 15.30026529, 15.20032961, 16.14745119, 15.298995  ,\n",
      "       16.31826118, 15.754183  , 15.57819257, 16.0558072 , 15.72184854,\n",
      "       15.76216134, 15.18283024, 16.53661722, 15.34153871, 15.85895878,\n",
      "       15.60801749, 15.30207788, 16.49255464, 16.13265685, 15.86677146,\n",
      "       15.31962312, 16.51422581, 16.0378077 , 15.69831863, 14.83419761,\n",
      "       15.67382672, 15.8805305 , 15.3905293 , 16.97307426, 16.18678757,\n",
      "       16.38423981, 15.79897524, 16.28068734, 15.34400501, 14.88390822,\n",
      "       18.22292031, 15.20712526, 15.62541273, 14.93834193, 17.37212793,\n",
      "       15.31439606, 15.88422996, 16.35972579, 15.22919555, 15.73176852,\n",
      "       15.56575875, 15.3660211 , 15.67473876, 16.66220579, 16.39945175,\n",
      "       15.63897739, 15.34152538, 15.60906264, 16.14560146, 15.42417266,\n",
      "       16.10707633, 15.02870567, 15.36401655, 16.05898345, 15.97543551,\n",
      "       16.37082414, 15.01735116, 15.19039304, 15.78355195, 15.40262138,\n",
      "       16.8926252 , 14.84996928, 16.00055404, 15.16395166, 14.95548143,\n",
      "       15.36927128, 16.10208757, 14.85604922, 15.84386757, 15.05113199,\n",
      "       16.24631112, 15.92425975, 15.36413049, 16.49255464, 15.37610407,\n",
      "       15.99034471, 15.5941281 , 16.92758966, 14.93758351, 15.46172312,\n",
      "       15.64653701, 15.80961984, 15.26939938, 16.22009805, 15.46552083,\n",
      "       15.13685554, 16.05924789, 15.28603359, 15.62103208, 15.26181985,\n",
      "       15.61640855, 16.56582807, 16.8029266 , 15.37692111, 15.25767113,\n",
      "       15.31687569, 14.85309277, 15.67711107, 15.62150737, 15.33290665,\n",
      "       15.17629649, 14.85000989, 14.91660004, 15.74308464, 15.87149378,\n",
      "       15.72575256, 16.23610665, 16.00637569, 15.17320029, 16.07823608,\n",
      "       15.28604692, 15.17567992, 15.27420556, 15.91450875, 15.35262374,\n",
      "       15.27436912, 15.3014613 , 15.85246249, 15.38593214, 15.27436912,\n",
      "       17.28931386, 15.78132564, 17.09193509, 15.45440914, 17.19685292,\n",
      "       15.24047079, 15.98799085, 16.7482258 , 15.80412561, 15.45864024,\n",
      "       15.26878281, 15.4469618 , 15.58118002, 15.67381043, 15.41642546,\n",
      "       15.4315454 , 15.29158277, 15.18739485, 15.29344582, 15.83678688,\n",
      "       14.96805693, 15.31009336, 15.0010099 , 16.39945175, 15.34092213,\n",
      "       15.64047662, 16.17235548, 16.0378077 , 15.86282604, 15.4187028 ,\n",
      "       19.61182295, 15.41552776, 15.215744  , 15.61694139, 15.33479351,\n",
      "       15.17189212, 15.24524184, 15.07571364, 16.08143565, 16.2887055 ,\n",
      "       15.24596952, 15.37918694, 15.27988116, 15.65117777, 15.38226982,\n",
      "       14.93279275, 15.62448557, 15.75300488, 15.35945653, 15.43889669,\n",
      "       15.19047773, 15.43715563, 15.64306855, 15.97093864, 16.10707633,\n",
      "       14.82327516, 16.22413924, 16.0378077 , 15.7300861 , 15.35704525,\n",
      "       15.64494825, 15.54261482, 16.35972579, 17.23853937, 15.98771619,\n",
      "       15.16015163, 15.40200023, 16.33321058, 16.58532523, 16.03026884,\n",
      "       15.2663165 , 16.2771399 , 16.84946492, 15.26878281, 15.98343603,\n",
      "       15.91510006, 16.16900116, 15.27618171, 15.86014904, 15.26446678,\n",
      "       15.20109653, 16.18265246, 15.20300937, 15.28173089, 15.3600731 ,\n",
      "       15.43328402, 15.30078128, 15.34219242, 15.23055513, 15.32286082,\n",
      "       16.18186976, 15.62959763, 15.30763272, 15.5772173 , 15.4568194 ,\n",
      "       15.31668145, 16.68397081, 16.3192116 , 15.96232344, 16.59742701,\n",
      "       15.74982984, 16.36152476, 15.27986784, 16.58948928, 15.80532162,\n",
      "       15.98194333, 15.74056788, 15.41519231, 15.33602666, 15.45866913,\n",
      "       15.47605716, 15.63453023, 15.32727279, 16.51751174, 15.67336116,\n",
      "       15.92425975, 15.21115543, 15.27436912, 15.30084473, 14.83419761,\n",
      "       15.69372147, 15.64822602, 15.63643134, 15.6955712 , 15.30269445,\n",
      "       15.67735507, 15.17559157, 15.39176245, 16.08703562, 16.16163242,\n",
      "       15.63959396, 15.28604692, 15.6027551 , 14.93710878, 15.6997066 ,\n",
      "       16.41307894, 15.17320029, 15.44775258, 16.13007082, 14.93957508,\n",
      "       15.62310715, 16.7018248 , 15.81130675, 15.18283024, 16.01174226,\n",
      "       15.36155025, 15.22862944, 15.17977444, 15.14302129, 15.33306639,\n",
      "       15.38166657, 16.0378077 , 15.52645041, 14.81539699, 14.79917817,\n",
      "       15.59351152, 15.17189212, 15.24966897, 15.49137308, 15.20704058,\n",
      "       15.29311038, 16.57864972, 15.39516745, 15.11278954, 15.22747225,\n",
      "       15.99110884, 15.16704786, 15.67920413, 15.45733752, 14.93690814,\n",
      "       15.64144684, 14.74384515, 15.32919387, 15.43944977, 14.8815057 ,\n",
      "       16.02262398, 15.44017745, 15.2034544 , 15.20964202, 16.18147605,\n",
      "       15.30026529, 15.67152476, 16.41226349, 15.58235814, 15.28911647,\n",
      "       15.71205834, 16.11411415, 15.22192307, 16.0599063 , 15.65056119,\n",
      "       15.41309859, 15.29927613, 15.96372053, 15.52402612, 15.57026122,\n",
      "       15.19972636, 15.10107429, 16.56769852, 16.99732998, 15.40406965,\n",
      "       15.89751029, 15.30454418, 15.90275165, 16.09072625, 15.96901657,\n",
      "       15.56796867, 15.39516745, 15.18739485, 14.93957508, 15.04691613,\n",
      "       16.08670954, 18.59784929, 15.25706787, 15.55729397, 15.82832813,\n",
      "       14.91043429, 15.83138069, 15.22365903, 15.27741486, 16.24017597,\n",
      "       15.35345734, 14.83419761, 15.41243156, 15.34769114, 14.79484882,\n",
      "       15.99759035, 15.17567992, 16.72714285, 15.19047773, 15.92534422,\n",
      "       15.51662722, 15.35883995, 15.96380941, 14.92809347, 16.09368919,\n",
      "       15.74488391, 15.82163372, 15.44115762, 15.62678614, 15.96914095,\n",
      "       15.71080613, 16.0378077 , 15.29344582, 15.17189212, 16.43216851,\n",
      "       16.01130123, 15.57819257, 15.34752384, 15.69802418, 15.83795398]))\n",
      "rmse: 0.32256463703046195\n",
      "r2: 0.744426957541412\n"
     ]
    }
   ],
   "source": [
    "from sklearn.metrics import mean_absolute_error, mean_squared_error, r2_score\n",
    "\n",
    "lg_mae_grid = mean_absolute_error(y_test, y_pred_grid)\n",
    "lg_mse_grid = (y_test, y_pred_grid)\n",
    "lg_rmse_grid = mean_squared_error(y_test, y_pred_grid, squared=False)\n",
    "lg_r2_grid = r2_score(y_test, y_pred_grid)\n",
    "\n",
    "print(\"mae:\", lg_mae_grid)\n",
    "print(\"mse:\", lg_mse_grid)\n",
    "print(\"rmse:\", lg_rmse_grid)\n",
    "print(\"r2:\", lg_r2_grid)\n"
   ]
  },
  {
   "cell_type": "markdown",
   "id": "9100a2f8",
   "metadata": {},
   "source": [
    "# Decision Tree Regressor model without tuning\n"
   ]
  },
  {
   "cell_type": "code",
   "execution_count": 49,
   "id": "0efd8bcb",
   "metadata": {},
   "outputs": [],
   "source": [
    "\n",
    "from sklearn.tree import DecisionTreeRegressor\n",
    "\n",
    "Dt_model = DecisionTreeRegressor(random_state=0)\n",
    "Dt_model.fit(x_train.std,y_train)\n",
    "\n",
    "Dt_predict = Dt_model.predict(x_test.std)"
   ]
  },
  {
   "cell_type": "code",
   "execution_count": 50,
   "id": "30fbb2ed",
   "metadata": {},
   "outputs": [
    {
     "name": "stdout",
     "output_type": "stream",
     "text": [
      "mae: 0.14231381259913609\n",
      "mse: 0.08096182964484676\n",
      "rmse: 0.28453792303460496\n",
      "r2: 0.8011333994832901\n"
     ]
    }
   ],
   "source": [
    "Dt_mae = mean_absolute_error(y_test, Dt_predict)\n",
    "Dt_mse = mean_squared_error(y_test, Dt_predict)\n",
    "Dt_rmse = mean_squared_error(y_test, Dt_predict, squared=False)\n",
    "Dt_r2 = r2_score(y_test, Dt_predict)\n",
    "\n",
    "print(\"mae:\", Dt_mae)\n",
    "print(\"mse:\", Dt_mse)\n",
    "print(\"rmse:\", Dt_rmse)\n",
    "print(\"r2:\", Dt_r2)\n"
   ]
  },
  {
   "cell_type": "markdown",
   "id": "c19a5d23",
   "metadata": {},
   "source": [
    "# Decision Tree Regressor model with tuning\n",
    "max_features = 'auto' means that the algorithm will consider all features, while 'sqrt' means that it will consider the square root of the number of features\n",
    "\n",
    "max_depth = maximum depth of each decision tree in the random forest\n",
    "\n",
    "min_samples_split = The minimum number of samples required to split an internal node\n",
    "\n",
    "min_samples_leaf = The minimum number of samples required to be at a leaf node\n",
    "\n"
   ]
  },
  {
   "cell_type": "code",
   "execution_count": 54,
   "id": "2ca9c1a5",
   "metadata": {},
   "outputs": [],
   "source": [
    "from sklearn.tree import DecisionTreeRegressor\n",
    "from sklearn.model_selection import GridSearchCV\n",
    "\n",
    "Dt_params = {'criterion': ['absolute_error', 'squared_error'],\n",
    "          'max_depth': [5, 10],\n",
    "          'min_samples_split': [2, 5],\n",
    "          'min_samples_leaf': [1, 2],\n",
    "          'max_features': ['sqrt']}\n",
    "\n",
    "Dt_grid_search = GridSearchCV(DecisionTreeRegressor(), Dt_params, cv=5)\n"
   ]
  },
  {
   "cell_type": "code",
   "execution_count": 55,
   "id": "29431477",
   "metadata": {
    "scrolled": true
   },
   "outputs": [
    {
     "data": {
      "text/plain": [
       "GridSearchCV(cv=5, estimator=DecisionTreeRegressor(),\n",
       "             param_grid={'criterion': ['absolute_error', 'squared_error'],\n",
       "                         'max_depth': [5, 10], 'max_features': ['sqrt'],\n",
       "                         'min_samples_leaf': [1, 2],\n",
       "                         'min_samples_split': [2, 5]})"
      ]
     },
     "execution_count": 55,
     "metadata": {},
     "output_type": "execute_result"
    }
   ],
   "source": [
    "Dt_grid_search.fit(x_train.std,y_train)"
   ]
  },
  {
   "cell_type": "code",
   "execution_count": 57,
   "id": "152ac66d",
   "metadata": {},
   "outputs": [],
   "source": [
    "Dt_grid_predict = Dt_grid_search.predict(x_test.std)"
   ]
  },
  {
   "cell_type": "code",
   "execution_count": 58,
   "id": "57ef6c23",
   "metadata": {},
   "outputs": [
    {
     "name": "stdout",
     "output_type": "stream",
     "text": [
      "mae: 0.19263715097000914\n",
      "mse: 0.10500991979681208\n",
      "rmse: 0.32405234113768117\n",
      "r2: 0.7420640583083268\n"
     ]
    }
   ],
   "source": [
    "Dt_grid_mae = mean_absolute_error(y_test, Dt_grid_predict)\n",
    "Dt_grid_mse = mean_squared_error(y_test, Dt_grid_predict)\n",
    "Dt_grid_rmse = mean_squared_error(y_test, Dt_grid_predict, squared=False)\n",
    "Dt_grid_r2 = r2_score(y_test, Dt_grid_predict)\n",
    "\n",
    "print(\"mae:\", Dt_grid_mae)\n",
    "print(\"mse:\", Dt_grid_mse)\n",
    "print(\"rmse:\", Dt_grid_rmse)\n",
    "print(\"r2:\", Dt_grid_r2)\n"
   ]
  },
  {
   "cell_type": "markdown",
   "id": "f3859731",
   "metadata": {},
   "source": [
    "# Random Forest regressor model without tuning\n"
   ]
  },
  {
   "cell_type": "code",
   "execution_count": 61,
   "id": "953f8ced",
   "metadata": {},
   "outputs": [],
   "source": [
    "from sklearn.ensemble import RandomForestRegressor\n",
    "\n",
    "RF_model = RandomForestRegressor(random_state=0)\n",
    "\n",
    "RF_model.fit(x_train.std,y_train)\n",
    "\n",
    "RF_predict = RF_model.predict(x_test.std)"
   ]
  },
  {
   "cell_type": "code",
   "execution_count": 62,
   "id": "8fa31e48",
   "metadata": {},
   "outputs": [
    {
     "name": "stdout",
     "output_type": "stream",
     "text": [
      "mae: 0.1319372640690606\n",
      "mse: 0.046449861920077495\n",
      "rmse: 0.2155223002848603\n",
      "r2: 0.8859051706830547\n"
     ]
    }
   ],
   "source": [
    "RF_mae = mean_absolute_error(y_test, RF_predict)\n",
    "RF_mse = mean_squared_error(y_test, RF_predict)\n",
    "RF_rmse = mean_squared_error(y_test, RF_predict, squared=False)\n",
    "RF_r2 = r2_score(y_test, RF_predict)\n",
    "\n",
    "print(\"mae:\", RF_mae)\n",
    "print(\"mse:\", RF_mse)\n",
    "print(\"rmse:\", RF_rmse)\n",
    "print(\"r2:\", RF_r2)\n"
   ]
  },
  {
   "cell_type": "markdown",
   "id": "db713378",
   "metadata": {},
   "source": [
    "# Random Forest regressor model with tuning\n",
    "n_estimators = number of decision trees to be included\n",
    "\n"
   ]
  },
  {
   "cell_type": "code",
   "execution_count": 65,
   "id": "8ff92c7b",
   "metadata": {},
   "outputs": [],
   "source": [
    "from sklearn.ensemble import RandomForestRegressor\n",
    "from sklearn.model_selection import GridSearchCV\n",
    "\n",
    "RF_params = {'n_estimators': [50, 100],\n",
    "          'criterion': ['absolute_error','squared_error'],\n",
    "          'max_depth': [5, 10],\n",
    "          'min_samples_split': [2, 5],\n",
    "          'min_samples_leaf': [1, 2],\n",
    "          'max_features': ['sqrt'],\n",
    "          'bootstrap': [True, False],\n",
    "             \n",
    "RF_grid_search = GridSearchCV(RandomForestRegressor(), RF_params, cv=5)\n"
   ]
  },
  {
   "cell_type": "code",
   "execution_count": 66,
   "id": "26f3973a",
   "metadata": {},
   "outputs": [
    {
     "name": "stderr",
     "output_type": "stream",
     "text": [
      "C:\\Users\\suheeskar\\anaconda3\\lib\\site-packages\\sklearn\\model_selection\\_validation.py:372: FitFailedWarning: \n",
      "160 fits failed out of a total of 640.\n",
      "The score on these train-test partitions for these parameters will be set to nan.\n",
      "If these failures are not expected, you can try to debug them by setting error_score='raise'.\n",
      "\n",
      "Below are more details about the failures:\n",
      "--------------------------------------------------------------------------------\n",
      "160 fits failed with the following error:\n",
      "Traceback (most recent call last):\n",
      "  File \"C:\\Users\\suheeskar\\anaconda3\\lib\\site-packages\\sklearn\\model_selection\\_validation.py\", line 680, in _fit_and_score\n",
      "    estimator.fit(X_train, y_train, **fit_params)\n",
      "  File \"C:\\Users\\suheeskar\\anaconda3\\lib\\site-packages\\sklearn\\ensemble\\_forest.py\", line 411, in fit\n",
      "    raise ValueError(\"Out of bag estimation only available if bootstrap=True\")\n",
      "ValueError: Out of bag estimation only available if bootstrap=True\n",
      "\n",
      "  warnings.warn(some_fits_failed_message, FitFailedWarning)\n",
      "C:\\Users\\suheeskar\\anaconda3\\lib\\site-packages\\sklearn\\model_selection\\_search.py:969: UserWarning: One or more of the test scores are non-finite: [0.66368304 0.66114297 0.65482867 0.66621192 0.67796848 0.65960771\n",
      " 0.66512597 0.66780316 0.67520968 0.66391104 0.66573406 0.65632818\n",
      " 0.6611164  0.65742661 0.66831095 0.65925673 0.82883273 0.8315374\n",
      " 0.82981845 0.82637426 0.8190513  0.82038531 0.82485553 0.8197825\n",
      " 0.80041146 0.80075945 0.80062701 0.8041488  0.80242    0.79921408\n",
      " 0.80529473 0.80474111 0.70576583 0.70254381 0.71201331 0.70518841\n",
      " 0.71089768 0.70834933 0.69928721 0.70889212 0.70237993 0.70771523\n",
      " 0.70526405 0.70682986 0.69184298 0.69191227 0.70930271 0.70473316\n",
      " 0.85141444 0.84282694 0.84410001 0.85186393 0.83825371 0.83559282\n",
      " 0.84013518 0.83941193 0.82455753 0.82130035 0.82711553 0.82423324\n",
      " 0.81883344 0.82357835 0.8206076  0.81997463        nan 0.66084655\n",
      "        nan 0.66951202        nan 0.67799669        nan 0.66833001\n",
      "        nan 0.67057812        nan 0.67755198        nan 0.6557493\n",
      "        nan 0.67464969        nan 0.83670799        nan 0.83674176\n",
      "        nan 0.833347          nan 0.83478402        nan 0.82272472\n",
      "        nan 0.81875121        nan 0.81510996        nan 0.81891556\n",
      "        nan 0.71398806        nan 0.70664996        nan 0.71221394\n",
      "        nan 0.70484976        nan 0.69401176        nan 0.70508831\n",
      "        nan 0.71340336        nan 0.70273085        nan 0.85381563\n",
      "        nan 0.85586194        nan 0.84658479        nan 0.84594016\n",
      "        nan 0.83359803        nan 0.84036113        nan 0.83593651\n",
      "        nan 0.8408836 ]\n",
      "  warnings.warn(\n"
     ]
    },
    {
     "data": {
      "text/plain": [
       "GridSearchCV(cv=5, estimator=RandomForestRegressor(),\n",
       "             param_grid={'bootstrap': [True, False],\n",
       "                         'criterion': ['absolute_error', 'squared_error'],\n",
       "                         'max_depth': [5, 10], 'max_features': ['sqrt'],\n",
       "                         'min_samples_leaf': [1, 2],\n",
       "                         'min_samples_split': [2, 5], 'n_estimators': [50, 100],\n",
       "                         'oob_score': [True, False]})"
      ]
     },
     "execution_count": 66,
     "metadata": {},
     "output_type": "execute_result"
    }
   ],
   "source": [
    "RF_grid_search.fit(x_train.std,y_train)"
   ]
  },
  {
   "cell_type": "code",
   "execution_count": 79,
   "id": "82c1352d",
   "metadata": {},
   "outputs": [
    {
     "name": "stdout",
     "output_type": "stream",
     "text": [
      "{'bootstrap': False, 'criterion': 'squared_error', 'max_depth': 10, 'max_features': 'sqrt', 'min_samples_leaf': 1, 'min_samples_split': 2, 'n_estimators': 100, 'oob_score': False}\n"
     ]
    }
   ],
   "source": [
    "RF_grid_predict = RF_grid_search.predict(x_test.std)\n",
    "best_params = RF_grid_search.best_params_\n",
    "print(best_params)"
   ]
  },
  {
   "cell_type": "code",
   "execution_count": 68,
   "id": "e3bfc9ef",
   "metadata": {},
   "outputs": [
    {
     "name": "stdout",
     "output_type": "stream",
     "text": [
      "mae: 0.1543786111931827\n",
      "mse: 0.052299116782791526\n",
      "rmse: 0.22869000149283206\n",
      "r2: 0.8715376417474261\n"
     ]
    }
   ],
   "source": [
    "RF_grid_mae = mean_absolute_error(y_test, RF_grid_predict)\n",
    "RF_grid_mse = mean_squared_error(y_test, RF_grid_predict)\n",
    "RF_grid_rmse = mean_squared_error(y_test, RF_grid_predict, squared=False)\n",
    "RF_grid_r2 = r2_score(y_test, RF_grid_predict)\n",
    "\n",
    "print(\"mae:\", RF_grid_mae)\n",
    "print(\"mse:\", RF_grid_mse)\n",
    "print(\"rmse:\", RF_grid_rmse)\n",
    "print(\"r2:\", RF_grid_r2)\n"
   ]
  },
  {
   "cell_type": "markdown",
   "id": "d64754ce",
   "metadata": {},
   "source": [
    "# XGBoost regressor model without tuning\n"
   ]
  },
  {
   "cell_type": "code",
   "execution_count": 69,
   "id": "71fd2dbd",
   "metadata": {},
   "outputs": [],
   "source": [
    "from xgboost import XGBRegressor\n",
    "\n",
    "XGB_model = XGBRegressor(random_state=0)\n",
    "\n",
    "XGB_model.fit(x_train.std,y_train)\n",
    "\n",
    "XGB_predict = XGB_model.predict(x_test.std)"
   ]
  },
  {
   "cell_type": "code",
   "execution_count": 70,
   "id": "5da8c57d",
   "metadata": {},
   "outputs": [
    {
     "name": "stdout",
     "output_type": "stream",
     "text": [
      "mae: 0.12056117889972771\n",
      "mse: 0.040885038079809366\n",
      "rmse: 0.2022004898110026\n",
      "r2: 0.8995740514932219\n"
     ]
    }
   ],
   "source": [
    "XGB_mae = mean_absolute_error(y_test, XGB_predict)\n",
    "XGB_mse = mean_squared_error(y_test, XGB_predict)\n",
    "XGB_rmse = mean_squared_error(y_test, XGB_predict, squared=False)\n",
    "XGB_r2 = r2_score(y_test, XGB_predict)\n",
    "\n",
    "print(\"mae:\", XGB_mae)\n",
    "print(\"mse:\", XGB_mse)\n",
    "print(\"rmse:\", XGB_rmse)\n",
    "print(\"r2:\", XGB_r2)"
   ]
  },
  {
   "cell_type": "markdown",
   "id": "4846d67a",
   "metadata": {},
   "source": [
    "# XGBoost regressor model with tuning\n",
    "learning_rate = controls the step size used in the gradient descent algorithm and It scales the contribution of each tree\n",
    "\n",
    "max_depth = This specifies the maximum depth of each tree\n",
    "\n",
    "n_estimators = This hyperparameter specifies the number of decision trees to be built.\n",
    "\n",
    "colsample_bytree = This hyperparameter specifies the fraction of columns to be randomly subsampled at each split when constructing each tree. \n",
    "\n",
    "subsample = This hyperparameter specifies the fraction of samples to be randomly subsampled for each tree"
   ]
  },
  {
   "cell_type": "code",
   "execution_count": 71,
   "id": "1f987e27",
   "metadata": {},
   "outputs": [],
   "source": [
    "from sklearn.model_selection import GridSearchCV\n",
    "\n",
    "XGB_params = {'learning_rate': [0.01, 0.1, 0.5],\n",
    "          'max_depth': [3, 5, 7],\n",
    "          'min_child_weight': [1, 3, 5],\n",
    "          'subsample': [0.5, 0.7, 1.0],\n",
    "          'colsample_bytree': [0.5, 0.7, 1.0],\n",
    "          'n_estimators': [50, 100, 200]}\n",
    "\n",
    "XGB_grid_search = GridSearchCV(XGBRegressor(),XGB_params, cv=5)\n"
   ]
  },
  {
   "cell_type": "code",
   "execution_count": 72,
   "id": "6d5a15f7",
   "metadata": {
    "scrolled": true
   },
   "outputs": [
    {
     "data": {
      "text/plain": [
       "GridSearchCV(cv=5,\n",
       "             estimator=XGBRegressor(base_score=None, booster=None,\n",
       "                                    callbacks=None, colsample_bylevel=None,\n",
       "                                    colsample_bynode=None,\n",
       "                                    colsample_bytree=None,\n",
       "                                    early_stopping_rounds=None,\n",
       "                                    enable_categorical=False, eval_metric=None,\n",
       "                                    feature_types=None, gamma=None, gpu_id=None,\n",
       "                                    grow_policy=None, importance_type=None,\n",
       "                                    interaction_constraints=None,\n",
       "                                    learning_rate=None, m...\n",
       "                                    max_depth=None, max_leaves=None,\n",
       "                                    min_child_weight=None, missing=nan,\n",
       "                                    monotone_constraints=None, n_estimators=100,\n",
       "                                    n_jobs=None, num_parallel_tree=None,\n",
       "                                    predictor=None, random_state=None, ...),\n",
       "             param_grid={'colsample_bytree': [0.5, 0.7, 1.0],\n",
       "                         'learning_rate': [0.01, 0.1, 0.5],\n",
       "                         'max_depth': [3, 5, 7], 'min_child_weight': [1, 3, 5],\n",
       "                         'n_estimators': [50, 100, 200],\n",
       "                         'subsample': [0.5, 0.7, 1.0]})"
      ]
     },
     "execution_count": 72,
     "metadata": {},
     "output_type": "execute_result"
    }
   ],
   "source": [
    "XGB_grid_search.fit(x_train.std,y_train)"
   ]
  },
  {
   "cell_type": "code",
   "execution_count": 82,
   "id": "f5b7e91b",
   "metadata": {},
   "outputs": [
    {
     "name": "stdout",
     "output_type": "stream",
     "text": [
      "{'colsample_bytree': 0.5, 'learning_rate': 0.1, 'max_depth': 7, 'min_child_weight': 3, 'n_estimators': 200, 'subsample': 1.0}\n"
     ]
    }
   ],
   "source": [
    "XGB_grid_predict = XGB_grid_search.predict(x_test.std)\n",
    "XGB_best_params = XGB_grid_search.best_params_\n",
    "print(XGB_best_params)"
   ]
  },
  {
   "cell_type": "code",
   "execution_count": 74,
   "id": "3313ade4",
   "metadata": {},
   "outputs": [
    {
     "name": "stdout",
     "output_type": "stream",
     "text": [
      "mae: 0.12140617175865444\n",
      "mse: 0.03626652283012761\n",
      "rmse: 0.190437713780983\n",
      "r2: 0.9109185138302\n"
     ]
    }
   ],
   "source": [
    "XGB_grid_mae = mean_absolute_error(y_test, XGB_grid_predict)\n",
    "XGB_grid_mse = mean_squared_error(y_test, XGB_grid_predict)\n",
    "XGB_grid_rmse = mean_squared_error(y_test, XGB_grid_predict, squared=False)\n",
    "XGB_grid_r2 = r2_score(y_test, XGB_grid_predict)\n",
    "\n",
    "print(\"mae:\", XGB_grid_mae)\n",
    "print(\"mse:\", XGB_grid_mse)\n",
    "print(\"rmse:\", XGB_grid_rmse)\n",
    "print(\"r2:\", XGB_grid_r2)\n"
   ]
  },
  {
   "cell_type": "markdown",
   "id": "8ce0f46f",
   "metadata": {},
   "source": [
    "# KNN regressor model without tuning\n"
   ]
  },
  {
   "cell_type": "code",
   "execution_count": 76,
   "id": "f3db031f",
   "metadata": {},
   "outputs": [],
   "source": [
    "from sklearn.neighbors import KNeighborsRegressor\n",
    "\n",
    "KNN_model = KNeighborsRegressor()\n",
    "\n",
    "KNN_model.fit(x_train.std,y_train)\n",
    "\n",
    "KNN_predict = KNN_model.predict(x_test.std)"
   ]
  },
  {
   "cell_type": "code",
   "execution_count": 77,
   "id": "8eb6589d",
   "metadata": {},
   "outputs": [
    {
     "name": "stdout",
     "output_type": "stream",
     "text": [
      "mae: 0.18875329421977988\n",
      "mse: 0.08971492642461083\n",
      "rmse: 0.2995245005414596\n",
      "r2: 0.7796331615536223\n"
     ]
    }
   ],
   "source": [
    "KNN_mae = mean_absolute_error(y_test, KNN_predict)\n",
    "KNN_mse = mean_squared_error(y_test, KNN_predict)\n",
    "KNN_rmse = mean_squared_error(y_test, KNN_predict, squared=False)\n",
    "KNN_r2 = r2_score(y_test, KNN_predict)\n",
    "\n",
    "print(\"mae:\", KNN_mae)\n",
    "print(\"mse:\", KNN_mse)\n",
    "print(\"rmse:\", KNN_rmse)\n",
    "print(\"r2:\", KNN_r2)"
   ]
  },
  {
   "cell_type": "markdown",
   "id": "d9506870",
   "metadata": {},
   "source": [
    "# KNN regressor model with tuning\n",
    "weights :  'uniform' means all points in each neighborhood are weighted equally, while 'distance' means points are weighted by the inverse of their distance.\n",
    "\n",
    "n_neighbors : The number of neighbors to consider when making a prediction\n",
    "\n",
    "P value : When p=1, the distance metric is Manhattan distance, and when p=2, the distance metric is Euclidean distance."
   ]
  },
  {
   "cell_type": "code",
   "execution_count": 83,
   "id": "1e7960dd",
   "metadata": {},
   "outputs": [],
   "source": [
    "from sklearn.neighbors import KNeighborsRegressor\n",
    "from sklearn.model_selection import GridSearchCV\n",
    "\n",
    "KNN_params = {'n_neighbors': [3, 5, 7], \n",
    "          'weights': ['uniform', 'distance'],\n",
    "          'p': [1, 2]}\n",
    "\n",
    "KNN_grid_search = GridSearchCV(KNeighborsRegressor(),KNN_params, cv=5) \n"
   ]
  },
  {
   "cell_type": "code",
   "execution_count": 84,
   "id": "9d9fc4c3",
   "metadata": {
    "scrolled": true
   },
   "outputs": [
    {
     "data": {
      "text/plain": [
       "GridSearchCV(cv=5, estimator=KNeighborsRegressor(),\n",
       "             param_grid={'n_neighbors': [3, 5, 7], 'p': [1, 2],\n",
       "                         'weights': ['uniform', 'distance']})"
      ]
     },
     "execution_count": 84,
     "metadata": {},
     "output_type": "execute_result"
    }
   ],
   "source": [
    "KNN_grid_search.fit(x_train.std,y_train)"
   ]
  },
  {
   "cell_type": "code",
   "execution_count": 85,
   "id": "0848fe8c",
   "metadata": {},
   "outputs": [
    {
     "name": "stdout",
     "output_type": "stream",
     "text": [
      "{'n_neighbors': 7, 'p': 1, 'weights': 'distance'}\n"
     ]
    }
   ],
   "source": [
    "KNN_grid_predict = KNN_grid_search.predict(x_test.std)\n",
    "KNN_best_params = KNN_grid_search.best_params_\n",
    "print(KNN_best_params)"
   ]
  },
  {
   "cell_type": "code",
   "execution_count": 86,
   "id": "b0333a44",
   "metadata": {},
   "outputs": [
    {
     "name": "stdout",
     "output_type": "stream",
     "text": [
      "mae: 0.1243139762323327\n",
      "mse: 0.06986470756248045\n",
      "rmse: 0.26431932877199965\n",
      "r2: 0.828391268453394\n"
     ]
    }
   ],
   "source": [
    "KNN_grid_mae = mean_absolute_error(y_test, KNN_grid_predict)\n",
    "KNN_grid_mse = mean_squared_error(y_test, KNN_grid_predict)\n",
    "KNN_grid_rmse = mean_squared_error(y_test, KNN_grid_predict, squared=False)\n",
    "KNN_grid_r2 = r2_score(y_test, KNN_grid_predict)\n",
    "\n",
    "print(\"mae:\", KNN_grid_mae)\n",
    "print(\"mse:\",KNN_grid_mse)\n",
    "print(\"rmse:\", KNN_grid_rmse)\n",
    "print(\"r2:\", KNN_grid_r2)\n"
   ]
  },
  {
   "cell_type": "markdown",
   "id": "ba023e2c",
   "metadata": {},
   "source": [
    "# SVM regressor model\n"
   ]
  },
  {
   "cell_type": "code",
   "execution_count": 88,
   "id": "c3f0b003",
   "metadata": {},
   "outputs": [],
   "source": [
    "from sklearn.svm import SVR\n",
    "\n",
    "SVR_model = SVR()\n",
    "\n",
    "SVR_model.fit(x_train.std,y_train)\n",
    "\n",
    "SVR_predict = SVR_model.predict(x_test.std)"
   ]
  },
  {
   "cell_type": "code",
   "execution_count": 89,
   "id": "b20a6a83",
   "metadata": {},
   "outputs": [
    {
     "name": "stdout",
     "output_type": "stream",
     "text": [
      "mae: 0.15056200497317407\n",
      "mse: 0.05484922444901965\n",
      "rmse: 0.23419911282714043\n",
      "r2: 0.8652738104486646\n"
     ]
    }
   ],
   "source": [
    "SVR_mae = mean_absolute_error(y_test, SVR_predict)\n",
    "SVR_mse = mean_squared_error(y_test, SVR_predict)\n",
    "SVR_rmse = mean_squared_error(y_test, SVR_predict, squared=False)\n",
    "SVR_r2 = r2_score(y_test, SVR_predict)\n",
    "\n",
    "print(\"mae:\", SVR_mae)\n",
    "print(\"mse:\", SVR_mse)\n",
    "print(\"rmse:\",SVR_rmse)\n",
    "print(\"r2:\", SVR_r2)"
   ]
  }
 ],
 "metadata": {
  "kernelspec": {
   "display_name": "Python 3 (ipykernel)",
   "language": "python",
   "name": "python3"
  },
  "language_info": {
   "codemirror_mode": {
    "name": "ipython",
    "version": 3
   },
   "file_extension": ".py",
   "mimetype": "text/x-python",
   "name": "python",
   "nbconvert_exporter": "python",
   "pygments_lexer": "ipython3",
   "version": "3.9.12"
  }
 },
 "nbformat": 4,
 "nbformat_minor": 5
}
